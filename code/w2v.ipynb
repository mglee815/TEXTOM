{
 "cells": [
  {
   "cell_type": "code",
   "execution_count": 14,
   "metadata": {},
   "outputs": [
    {
     "name": "stdout",
     "output_type": "stream",
     "text": [
      "data load start\n",
      "loaded\n",
      "0:00:00.265782\n"
     ]
    }
   ],
   "source": [
    "import pandas as pd\n",
    "import datetime\n",
    "\n",
    "start_time = datetime.datetime.now()\n",
    "print(\"data load start\")\n",
    "dataKBS = pd.read_excel(\"../data/2022-11-22 13_48_42_7688_.xlsx\", header=None) \n",
    "dataSBS = pd.read_excel(\"../data/2022-11-22 16_23_54_2354_.xlsx\", header=None) \n",
    "dataMBC = pd.read_excel(\"../data/2022-11-23 09_33_10_2392_.xlsx\", header=None) \n",
    "print(\"loaded\")\n",
    "print(datetime.datetime.now() - start_time)\n",
    "\n"
   ]
  },
  {
   "cell_type": "code",
   "execution_count": 15,
   "metadata": {},
   "outputs": [],
   "source": [
    "dataKBS.columns = ['title', 'url', 'body']\n",
    "dataSBS.columns = ['title', 'url', 'body']\n",
    "dataMBC.columns = ['title', 'url', 'body']"
   ]
  },
  {
   "cell_type": "code",
   "execution_count": 16,
   "metadata": {},
   "outputs": [],
   "source": [
    "from konlpy.tag import Okt"
   ]
  },
  {
   "cell_type": "code",
   "execution_count": 17,
   "metadata": {},
   "outputs": [],
   "source": [
    "okt = Okt()"
   ]
  },
  {
   "cell_type": "code",
   "execution_count": 18,
   "metadata": {},
   "outputs": [],
   "source": [
    "dataKBS['token'] = dataKBS['body'].apply(lambda x : okt.nouns(str(x)))\n",
    "dataSBS['token'] = dataSBS['body'].apply(lambda x : okt.nouns(str(x)))\n",
    "dataMBC['token'] = dataMBC['body'].apply(lambda x : okt.nouns(str(x)))"
   ]
  },
  {
   "cell_type": "code",
   "execution_count": 19,
   "metadata": {},
   "outputs": [
    {
     "name": "stdout",
     "output_type": "stream",
     "text": [
      "model build\n",
      "model saved\n",
      "0:00:00.588558\n"
     ]
    }
   ],
   "source": [
    "TARGET = 'KBS'\n",
    "w = 10\n",
    "m = 5\n",
    "\n",
    "start_time = datetime.datetime.now()\n",
    "key_lst = dataKBS['token']\n",
    "\n",
    "print('model build')\n",
    "from gensim.models import Word2Vec\n",
    "model_KBS = Word2Vec(sentences=key_lst, window=w, min_count=10, workers=8, sg=0)\n",
    "\n",
    "from gensim.models import KeyedVectors\n",
    "model_KBS.save(f'../result/w2v_model/{datetime.datetime.now().strftime(\"%m_%d_%H\")}_w2v_w{w}m{m}_{TARGET}') # 모델 저장\n",
    "print('model saved')\n",
    "print(datetime.datetime.now() - start_time)\n"
   ]
  },
  {
   "cell_type": "code",
   "execution_count": 20,
   "metadata": {},
   "outputs": [
    {
     "name": "stdout",
     "output_type": "stream",
     "text": [
      "model build\n",
      "model saved\n",
      "0:00:00.518222\n"
     ]
    }
   ],
   "source": [
    "TARGET = 'SBS'\n",
    "w = 10\n",
    "m = 5\n",
    "\n",
    "start_time = datetime.datetime.now()\n",
    "key_lst = dataSBS['token']\n",
    "\n",
    "print('model build')\n",
    "from gensim.models import Word2Vec\n",
    "model_SBS = Word2Vec(sentences=key_lst, window=w, min_count=10, workers=8, sg=0)\n",
    "\n",
    "from gensim.models import KeyedVectors\n",
    "model_SBS.save(f'../result/w2v_model/{datetime.datetime.now().strftime(\"%m_%d_%H\")}_w2v_w{w}m{m}_{TARGET}') # 모델 저장\n",
    "print('model saved')\n",
    "print(datetime.datetime.now() - start_time)\n"
   ]
  },
  {
   "cell_type": "code",
   "execution_count": 21,
   "metadata": {},
   "outputs": [
    {
     "name": "stdout",
     "output_type": "stream",
     "text": [
      "model build\n",
      "model saved\n",
      "0:00:00.493393\n"
     ]
    }
   ],
   "source": [
    "TARGET = 'MBC'\n",
    "w = 10\n",
    "m = 5\n",
    "\n",
    "start_time = datetime.datetime.now()\n",
    "key_lst = dataSBS['token']\n",
    "\n",
    "print('model build')\n",
    "from gensim.models import Word2Vec\n",
    "model_MBC = Word2Vec(sentences=key_lst, window=w, min_count=10, workers=8, sg=0)\n",
    "\n",
    "from gensim.models import KeyedVectors\n",
    "model_MBC.save(f'../result/w2v_model/{datetime.datetime.now().strftime(\"%m_%d_%H\")}_w2v_w{w}m{m}_{TARGET}') # 모델 저장\n",
    "print('model saved')\n",
    "print(datetime.datetime.now() - start_time)\n"
   ]
  },
  {
   "cell_type": "code",
   "execution_count": 24,
   "metadata": {},
   "outputs": [],
   "source": [
    "KBS = model_KBS.wv\n",
    "SBS = model_SBS.wv\n",
    "MBC = model_MBC.wv"
   ]
  },
  {
   "cell_type": "code",
   "execution_count": 47,
   "metadata": {},
   "outputs": [],
   "source": [
    "import matplotlib.font_manager as fm\n",
    "import matplotlib\n",
    "\n",
    "font_path = \"/usr/share/fonts/truetype/nanum/NanumGothic.ttf\"\n",
    "fontprop = fm.FontProperties(fname=font_path, size=18)\n",
    "font_name = fm.FontProperties(fname=\"/usr/share/fonts/truetype/nanum/NanumGothic.ttf\").get_name()\n",
    "\n",
    "matplotlib.rcParams['font.family'] ='NanumGothic'\n",
    "matplotlib.rcParams['axes.unicode_minus'] = False"
   ]
  },
  {
   "cell_type": "code",
   "execution_count": 64,
   "metadata": {},
   "outputs": [],
   "source": [
    "import matplotlib.pyplot as plt\n",
    "\n",
    "def plot_2d_graph(vocabs, xs, ys):\n",
    "    plt.figure(figsize=(8 ,6))\n",
    "    plt.scatter(xs, ys, marker = 'o')\n",
    "    for i, v in enumerate(vocabs):\n",
    "        plt.annotate(v, xy=(xs[i], ys[i]))"
   ]
  },
  {
   "cell_type": "code",
   "execution_count": 73,
   "metadata": {},
   "outputs": [],
   "source": [
    "v = ['이태원', '윤석열', '대통령', '장관', '참사', '사고', '희생자', '압사', '분향소', '경찰', '소방', '행안부']"
   ]
  },
  {
   "cell_type": "code",
   "execution_count": 74,
   "metadata": {},
   "outputs": [
    {
     "data": {
      "image/png": "[encoded data removed]",
      "text/plain": [
       "<Figure size 576x432 with 1 Axes>"
      ]
     },
     "metadata": {
      "needs_background": "light"
     },
     "output_type": "display_data"
    }
   ],
   "source": [
    "word = []\n",
    "word_vector = []\n",
    "for key in v:\n",
    "    try:\n",
    "        word_vector.append(KBS[key])\n",
    "        word.append(key)\n",
    "    except:\n",
    "        pass\n",
    "    \n",
    "from sklearn.decomposition import PCA\n",
    "pca = PCA(n_components=2)\n",
    "xys = pca.fit_transform(word_vector)\n",
    "xs = xys[:,0]\n",
    "ys = xys[:,1]\n",
    "\n",
    "plot_2d_graph(word, xs, ys)"
   ]
  },
  {
   "cell_type": "code",
   "execution_count": 75,
   "metadata": {},
   "outputs": [
    {
     "data": {
      "image/png": "[encoded data removed]",
      "text/plain": [
       "<Figure size 576x432 with 1 Axes>"
      ]
     },
     "metadata": {
      "needs_background": "light"
     },
     "output_type": "display_data"
    }
   ],
   "source": [
    "word = []\n",
    "word_vector = []\n",
    "for key in v:\n",
    "    try:\n",
    "        word_vector.append(SBS[key])\n",
    "        word.append(key)\n",
    "    except:\n",
    "        pass\n",
    "    \n",
    "from sklearn.decomposition import PCA\n",
    "pca = PCA(n_components=2)\n",
    "xys = pca.fit_transform(word_vector)\n",
    "xs = xys[:,0]\n",
    "ys = xys[:,1]\n",
    "\n",
    "plot_2d_graph(word, xs, ys)"
   ]
  },
  {
   "cell_type": "code",
   "execution_count": 76,
   "metadata": {},
   "outputs": [
    {
     "data": {
      "image/png": "[encoded data removed]",
      "text/plain": [
       "<Figure size 576x432 with 1 Axes>"
      ]
     },
     "metadata": {
      "needs_background": "light"
     },
     "output_type": "display_data"
    }
   ],
   "source": [
    "word = []\n",
    "word_vector = []\n",
    "for key in v:\n",
    "    try:\n",
    "        word_vector.append(MBC[key])\n",
    "        word.append(key)\n",
    "    except:\n",
    "        pass\n",
    "    \n",
    "from sklearn.decomposition import PCA\n",
    "pca = PCA(n_components=2)\n",
    "xys = pca.fit_transform(word_vector)\n",
    "xs = xys[:,0]\n",
    "ys = xys[:,1]\n",
    "\n",
    "plot_2d_graph(word, xs, ys)"
   ]
  }
 ],
 "metadata": {
  "kernelspec": {
   "display_name": "Python 3.8.12 ('save')",
   "language": "python",
   "name": "python3"
  },
  "language_info": {
   "codemirror_mode": {
    "name": "ipython",
    "version": 3
   },
   "file_extension": ".py",
   "mimetype": "text/x-python",
   "name": "python",
   "nbconvert_exporter": "python",
   "pygments_lexer": "ipython3",
   "version": "3.8.12"
  },
  "orig_nbformat": 4,
  "vscode": {
   "interpreter": {
    "hash": "6632c70ce360d611e847e5318887868e2366d56c00e5f501b5a0b067a934dfe7"
   }
  }
 },
 "nbformat": 4,
 "nbformat_minor": 2
}
