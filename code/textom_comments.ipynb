{
  "cells": [
    {
      "cell_type": "code",
      "execution_count": 137,
      "metadata": {
        "colab": {
          "base_uri": "https://localhost:8080/"
        },
        "id": "q2kbaCNAzkac",
        "outputId": "8327a17e-64f1-4697-c408-a08bb8a5fcf5"
      },
      "outputs": [],
      "source": [
        "# 라이브러리 불러오기\n",
        "import requests\n",
        "from bs4 import BeautifulSoup\n",
        "from datetime import datetime, timedelta\n",
        "import asyncio\n",
        "import json\n",
        "import nest_asyncio\n",
        "import pandas as pd\n",
        "import re\n",
        "from tqdm import tqdm\n",
        "nest_asyncio.apply()"
      ]
    },
    {
      "cell_type": "code",
      "execution_count": 138,
      "metadata": {},
      "outputs": [],
      "source": [
        "urls = pd.read_csv(\"../data/textom_1122_SBS.csv\")"
      ]
    },
    {
      "cell_type": "code",
      "execution_count": 139,
      "metadata": {},
      "outputs": [
        {
          "data": {
            "text/html": [
              "<div>\n",
              "<style scoped>\n",
              "    .dataframe tbody tr th:only-of-type {\n",
              "        vertical-align: middle;\n",
              "    }\n",
              "\n",
              "    .dataframe tbody tr th {\n",
              "        vertical-align: top;\n",
              "    }\n",
              "\n",
              "    .dataframe thead th {\n",
              "        text-align: right;\n",
              "    }\n",
              "</style>\n",
              "<table border=\"1\" class=\"dataframe\">\n",
              "  <thead>\n",
              "    <tr style=\"text-align: right;\">\n",
              "      <th></th>\n",
              "      <th>Unnamed: 0</th>\n",
              "      <th>0</th>\n",
              "      <th>1</th>\n",
              "    </tr>\n",
              "  </thead>\n",
              "  <tbody>\n",
              "    <tr>\n",
              "      <th>0</th>\n",
              "      <td>0</td>\n",
              "      <td>https://n.news.naver.com/mnews/article/055/000...</td>\n",
              "      <td>https://news.sbs.co.kr/news/endPage.do?news_id...</td>\n",
              "    </tr>\n",
              "    <tr>\n",
              "      <th>1</th>\n",
              "      <td>1</td>\n",
              "      <td>https://n.news.naver.com/mnews/article/055/000...</td>\n",
              "      <td>https://news.sbs.co.kr/news/endPage.do?news_id...</td>\n",
              "    </tr>\n",
              "    <tr>\n",
              "      <th>2</th>\n",
              "      <td>2</td>\n",
              "      <td>https://n.news.naver.com/mnews/article/055/000...</td>\n",
              "      <td>https://news.sbs.co.kr/news/endPage.do?news_id...</td>\n",
              "    </tr>\n",
              "    <tr>\n",
              "      <th>3</th>\n",
              "      <td>3</td>\n",
              "      <td>https://n.news.naver.com/mnews/article/055/000...</td>\n",
              "      <td>https://news.sbs.co.kr/news/endPage.do?news_id...</td>\n",
              "    </tr>\n",
              "    <tr>\n",
              "      <th>4</th>\n",
              "      <td>4</td>\n",
              "      <td>https://n.news.naver.com/mnews/article/055/000...</td>\n",
              "      <td>https://news.sbs.co.kr/news/endPage.do?news_id...</td>\n",
              "    </tr>\n",
              "    <tr>\n",
              "      <th>...</th>\n",
              "      <td>...</td>\n",
              "      <td>...</td>\n",
              "      <td>...</td>\n",
              "    </tr>\n",
              "    <tr>\n",
              "      <th>668</th>\n",
              "      <td>668</td>\n",
              "      <td>https://n.news.naver.com/mnews/article/055/000...</td>\n",
              "      <td>https://news.sbs.co.kr/news/endPage.do?news_id...</td>\n",
              "    </tr>\n",
              "    <tr>\n",
              "      <th>669</th>\n",
              "      <td>669</td>\n",
              "      <td>https://n.news.naver.com/mnews/article/055/000...</td>\n",
              "      <td>https://news.sbs.co.kr/news/endPage.do?news_id...</td>\n",
              "    </tr>\n",
              "    <tr>\n",
              "      <th>670</th>\n",
              "      <td>670</td>\n",
              "      <td>https://n.news.naver.com/mnews/article/055/000...</td>\n",
              "      <td>https://news.sbs.co.kr/news/endPage.do?news_id...</td>\n",
              "    </tr>\n",
              "    <tr>\n",
              "      <th>671</th>\n",
              "      <td>671</td>\n",
              "      <td>https://n.news.naver.com/mnews/article/055/000...</td>\n",
              "      <td>https://news.sbs.co.kr/news/endPage.do?news_id...</td>\n",
              "    </tr>\n",
              "    <tr>\n",
              "      <th>672</th>\n",
              "      <td>672</td>\n",
              "      <td>https://n.news.naver.com/mnews/article/055/000...</td>\n",
              "      <td>https://news.sbs.co.kr/news/endPage.do?news_id...</td>\n",
              "    </tr>\n",
              "  </tbody>\n",
              "</table>\n",
              "<p>673 rows × 3 columns</p>\n",
              "</div>"
            ],
            "text/plain": [
              "     Unnamed: 0                                                  0  \\\n",
              "0             0  https://n.news.naver.com/mnews/article/055/000...   \n",
              "1             1  https://n.news.naver.com/mnews/article/055/000...   \n",
              "2             2  https://n.news.naver.com/mnews/article/055/000...   \n",
              "3             3  https://n.news.naver.com/mnews/article/055/000...   \n",
              "4             4  https://n.news.naver.com/mnews/article/055/000...   \n",
              "..          ...                                                ...   \n",
              "668         668  https://n.news.naver.com/mnews/article/055/000...   \n",
              "669         669  https://n.news.naver.com/mnews/article/055/000...   \n",
              "670         670  https://n.news.naver.com/mnews/article/055/000...   \n",
              "671         671  https://n.news.naver.com/mnews/article/055/000...   \n",
              "672         672  https://n.news.naver.com/mnews/article/055/000...   \n",
              "\n",
              "                                                     1  \n",
              "0    https://news.sbs.co.kr/news/endPage.do?news_id...  \n",
              "1    https://news.sbs.co.kr/news/endPage.do?news_id...  \n",
              "2    https://news.sbs.co.kr/news/endPage.do?news_id...  \n",
              "3    https://news.sbs.co.kr/news/endPage.do?news_id...  \n",
              "4    https://news.sbs.co.kr/news/endPage.do?news_id...  \n",
              "..                                                 ...  \n",
              "668  https://news.sbs.co.kr/news/endPage.do?news_id...  \n",
              "669  https://news.sbs.co.kr/news/endPage.do?news_id...  \n",
              "670  https://news.sbs.co.kr/news/endPage.do?news_id...  \n",
              "671  https://news.sbs.co.kr/news/endPage.do?news_id...  \n",
              "672  https://news.sbs.co.kr/news/endPage.do?news_id...  \n",
              "\n",
              "[673 rows x 3 columns]"
            ]
          },
          "execution_count": 139,
          "metadata": {},
          "output_type": "execute_result"
        }
      ],
      "source": [
        "urls"
      ]
    },
    {
      "cell_type": "code",
      "execution_count": 140,
      "metadata": {
        "id": "39A4hPZryEA2"
      },
      "outputs": [],
      "source": [
        "# 함수 정의\n",
        "def get_comments(refer_url, comment_url) : # 댓글 목록을 json 형태로 받아오는 함수\n",
        "    comments = []\n",
        "    next = None\n",
        "    # 처음엔 댓글 개수를 모르므로 충분히 큰 수를 넣어 줌\n",
        "    comment_count = 10e6\n",
        "    headers = {\n",
        "        'User-Agent' : 'Mozilla/5.0 (Macintosh; Intel Mac OS X 10_15_3) AppleWebKit/605.1.15 (KHTML, like Gecko) Version/13.0.5 Safari/605.1.15',\n",
        "        'referer': refer_url\n",
        "    }\n",
        "    \n",
        "    # 수집한 댓글 수가 첫번째에 수집한 총 댓글 수 보다 많다면 반복을 종료합니다.\n",
        "    while len(comments) < comment_count :\n",
        "        comment_url_next = comment_url + '&moreParam.next=' + next if next else comment_url\n",
        "        res = requests.get(comment_url_next, headers=headers)\n",
        "        dic = json.loads(res.text[res.text.index('(')+1:-2])\n",
        "        comments.extend(list(map(lambda x : {\n",
        "            'text': x['contents'],\n",
        "            'reply_count' : x['replyCount'], \n",
        "            'uid': x['idNo'],\n",
        "            'uname' : x['userName'],\n",
        "            'like': x['sympathyCount'], \n",
        "            'dislike': x['antipathyCount'],\n",
        "            'c_time' : x['modTime'],\n",
        "            'cid': x['commentNo'],\n",
        "            'pid' : x['parentCommentNo'] \n",
        "            }, dic['result']['commentList'])))\n",
        "        comment_count = dic['result']['count']['comment']\n",
        "        next = dic['result']['morePage']['next'] if comment_count else None\n",
        "    # 필터로 삭제된 댓글을 걸러줍니다\n",
        "    comments=list(filter(lambda x: len(x['text']), comments))\n",
        "    return comments\n",
        "\n"
      ]
    },
    {
      "cell_type": "code",
      "execution_count": 141,
      "metadata": {
        "id": "oB9vJariuqiy"
      },
      "outputs": [],
      "source": [
        "def get_data(oid, aid) :\n",
        "    try :\n",
        "        # refer_url: 댓글 보기를 누르면 나오는 댓글 페이지 주소\n",
        "        # comment_url: 네트워크 탭에서 확인 가능한 동적으로 생성되는 주소\n",
        "        refer_url = f'https://n.news.naver.com/mnews/article/comment/{oid}/{aid}?sid=100'\n",
        "        comment_url = f'https://apis.naver.com/commentBox/cbox/web_naver_list_jsonp.json?ticket=news&templateId=default_politics_m3&pool=cbox5&_cv=20220623185938&_callback=jQuery33103200637113167857_1656171100524&lang=ko&country=KR&objectId=news{oid}%2C{aid}&categoryId=&pageSize=100&indexSize=10&groupId=&listType=OBJECT&pageType=more&page=1&initialize=true&userType=&useAltSort=true&replyPageSize=20&followSize=100&sort=new&includeAllStatus=true&_=1656171100525'\n",
        "\n",
        "        comments = get_comments(refer_url, comment_url)\n",
        "        comments = pd.DataFrame(comments)\n",
        "        # 댓글 수가 0개인 기사를 어떻게 할지 추후에 결정해야 함\n",
        "        return comments\n",
        "    except :\n",
        "        return None\n"
      ]
    },
    {
      "cell_type": "code",
      "execution_count": 142,
      "metadata": {},
      "outputs": [
        {
          "name": "stderr",
          "output_type": "stream",
          "text": [
            "24it [00:12,  1.68it/s]"
          ]
        },
        {
          "name": "stdout",
          "output_type": "stream",
          "text": [
            "https://entertain.naver.com/read?oid=416&aid=0000289411\n",
            "https://entertain.naver.com/read?oid=416&aid=0000289410\n"
          ]
        },
        {
          "name": "stderr",
          "output_type": "stream",
          "text": [
            "90it [00:50,  1.25s/it]"
          ]
        },
        {
          "name": "stdout",
          "output_type": "stream",
          "text": [
            "https://n.news.naver.com/sports/qatar2022/article/055/0001010811\n"
          ]
        },
        {
          "name": "stderr",
          "output_type": "stream",
          "text": [
            "95it [00:52,  2.06it/s]"
          ]
        },
        {
          "name": "stdout",
          "output_type": "stream",
          "text": [
            "https://entertain.naver.com/read?oid=416&aid=0000289160\n"
          ]
        },
        {
          "name": "stderr",
          "output_type": "stream",
          "text": [
            "100it [00:54,  2.88it/s]"
          ]
        },
        {
          "name": "stdout",
          "output_type": "stream",
          "text": [
            "https://sports.news.naver.com/news.nhn?oid=055&aid=0001010009\n"
          ]
        },
        {
          "name": "stderr",
          "output_type": "stream",
          "text": [
            "111it [01:05,  1.79it/s]"
          ]
        },
        {
          "name": "stdout",
          "output_type": "stream",
          "text": [
            "https://sports.news.naver.com/news.nhn?oid=055&aid=0001009910\n"
          ]
        },
        {
          "name": "stderr",
          "output_type": "stream",
          "text": [
            "121it [01:09,  2.08it/s]"
          ]
        },
        {
          "name": "stdout",
          "output_type": "stream",
          "text": [
            "https://entertain.naver.com/read?oid=416&aid=0000289057\n"
          ]
        },
        {
          "name": "stderr",
          "output_type": "stream",
          "text": [
            "124it [01:10,  3.53it/s]"
          ]
        },
        {
          "name": "stdout",
          "output_type": "stream",
          "text": [
            "https://sports.news.naver.com/news.nhn?oid=055&aid=0001009772\n"
          ]
        },
        {
          "name": "stderr",
          "output_type": "stream",
          "text": [
            "133it [01:11,  4.45it/s]"
          ]
        },
        {
          "name": "stdout",
          "output_type": "stream",
          "text": [
            "https://sports.news.naver.com/news.nhn?oid=055&aid=0001009718\n"
          ]
        },
        {
          "name": "stderr",
          "output_type": "stream",
          "text": [
            "150it [01:18,  1.84it/s]"
          ]
        },
        {
          "name": "stdout",
          "output_type": "stream",
          "text": [
            "https://entertain.naver.com/read?oid=416&aid=0000289036\n"
          ]
        },
        {
          "name": "stderr",
          "output_type": "stream",
          "text": [
            "172it [01:27,  4.20it/s]"
          ]
        },
        {
          "name": "stdout",
          "output_type": "stream",
          "text": [
            "https://sports.news.naver.com/news.nhn?oid=055&aid=0001009473\n"
          ]
        },
        {
          "name": "stderr",
          "output_type": "stream",
          "text": [
            "194it [01:34,  2.75it/s]"
          ]
        },
        {
          "name": "stdout",
          "output_type": "stream",
          "text": [
            "https://entertain.naver.com/read?oid=416&aid=0000289123\n"
          ]
        },
        {
          "name": "stderr",
          "output_type": "stream",
          "text": [
            "196it [01:34,  4.02it/s]"
          ]
        },
        {
          "name": "stdout",
          "output_type": "stream",
          "text": [
            "https://entertain.naver.com/read?oid=416&aid=0000289120\n"
          ]
        },
        {
          "name": "stderr",
          "output_type": "stream",
          "text": [
            "220it [01:42,  4.40it/s]"
          ]
        },
        {
          "name": "stdout",
          "output_type": "stream",
          "text": [
            "https://entertain.naver.com/read?oid=416&aid=0000289080\n"
          ]
        },
        {
          "name": "stderr",
          "output_type": "stream",
          "text": [
            "223it [01:43,  3.23it/s]"
          ]
        },
        {
          "name": "stdout",
          "output_type": "stream",
          "text": [
            "https://sports.news.naver.com/news.nhn?oid=055&aid=0001010077\n"
          ]
        },
        {
          "name": "stderr",
          "output_type": "stream",
          "text": [
            "235it [01:55,  2.63it/s]"
          ]
        },
        {
          "name": "stdout",
          "output_type": "stream",
          "text": [
            "https://sports.news.naver.com/news.nhn?oid=055&aid=0001009422\n"
          ]
        },
        {
          "name": "stderr",
          "output_type": "stream",
          "text": [
            "238it [01:56,  3.16it/s]"
          ]
        },
        {
          "name": "stdout",
          "output_type": "stream",
          "text": [
            "https://sports.news.naver.com/news.nhn?oid=055&aid=0001009401\n"
          ]
        },
        {
          "name": "stderr",
          "output_type": "stream",
          "text": [
            "245it [01:57,  4.19it/s]"
          ]
        },
        {
          "name": "stdout",
          "output_type": "stream",
          "text": [
            "https://entertain.naver.com/read?oid=416&aid=0000289020\n",
            "https://entertain.naver.com/read?oid=416&aid=0000289017\n"
          ]
        },
        {
          "name": "stderr",
          "output_type": "stream",
          "text": [
            "257it [02:08,  1.09s/it]"
          ]
        },
        {
          "name": "stdout",
          "output_type": "stream",
          "text": [
            "https://entertain.naver.com/read?oid=416&aid=0000289014\n",
            "https://entertain.naver.com/read?oid=416&aid=0000289012\n"
          ]
        },
        {
          "name": "stderr",
          "output_type": "stream",
          "text": [
            "280it [02:16,  3.08it/s]"
          ]
        },
        {
          "name": "stdout",
          "output_type": "stream",
          "text": [
            "https://entertain.naver.com/read?oid=416&aid=0000289484\n"
          ]
        },
        {
          "name": "stderr",
          "output_type": "stream",
          "text": [
            "316it [02:41,  3.14s/it]"
          ]
        },
        {
          "name": "stdout",
          "output_type": "stream",
          "text": [
            "https://sports.news.naver.com/news.nhn?oid=055&aid=0001010008\n"
          ]
        },
        {
          "name": "stderr",
          "output_type": "stream",
          "text": [
            "332it [02:50,  1.90it/s]"
          ]
        },
        {
          "name": "stdout",
          "output_type": "stream",
          "text": [
            "https://sports.news.naver.com/news.nhn?oid=055&aid=0001009870\n"
          ]
        },
        {
          "name": "stderr",
          "output_type": "stream",
          "text": [
            "351it [02:57,  4.23it/s]"
          ]
        },
        {
          "name": "stdout",
          "output_type": "stream",
          "text": [
            "https://sports.news.naver.com/news.nhn?oid=055&aid=0001009719\n"
          ]
        },
        {
          "name": "stderr",
          "output_type": "stream",
          "text": [
            "373it [03:09,  1.30it/s]"
          ]
        },
        {
          "name": "stdout",
          "output_type": "stream",
          "text": [
            "https://entertain.naver.com/read?oid=416&aid=0000289037\n",
            "https://entertain.naver.com/read?oid=416&aid=0000289047\n"
          ]
        },
        {
          "name": "stderr",
          "output_type": "stream",
          "text": [
            "414it [03:35,  2.00it/s]"
          ]
        },
        {
          "name": "stdout",
          "output_type": "stream",
          "text": [
            "https://entertain.naver.com/read?oid=416&aid=0000289154\n"
          ]
        },
        {
          "name": "stderr",
          "output_type": "stream",
          "text": [
            "431it [03:40,  2.48it/s]"
          ]
        },
        {
          "name": "stdout",
          "output_type": "stream",
          "text": [
            "https://entertain.naver.com/read?oid=416&aid=0000289122\n"
          ]
        },
        {
          "name": "stderr",
          "output_type": "stream",
          "text": [
            "495it [04:22,  3.50it/s]"
          ]
        },
        {
          "name": "stdout",
          "output_type": "stream",
          "text": [
            "https://sports.news.naver.com/news.nhn?oid=055&aid=0001009576\n"
          ]
        },
        {
          "name": "stderr",
          "output_type": "stream",
          "text": [
            "497it [04:23,  4.60it/s]"
          ]
        },
        {
          "name": "stdout",
          "output_type": "stream",
          "text": [
            "https://entertain.naver.com/read?oid=416&aid=0000289030\n"
          ]
        },
        {
          "name": "stderr",
          "output_type": "stream",
          "text": [
            "517it [04:33,  2.33it/s]"
          ]
        },
        {
          "name": "stdout",
          "output_type": "stream",
          "text": [
            "https://sports.news.naver.com/news.nhn?oid=055&aid=0001009434\n"
          ]
        },
        {
          "name": "stderr",
          "output_type": "stream",
          "text": [
            "524it [04:36,  2.93it/s]"
          ]
        },
        {
          "name": "stdout",
          "output_type": "stream",
          "text": [
            "https://entertain.naver.com/read?oid=416&aid=0000289021\n"
          ]
        },
        {
          "name": "stderr",
          "output_type": "stream",
          "text": [
            "527it [04:37,  4.10it/s]"
          ]
        },
        {
          "name": "stdout",
          "output_type": "stream",
          "text": [
            "https://sports.news.naver.com/news.nhn?oid=055&aid=0001009355\n"
          ]
        },
        {
          "name": "stderr",
          "output_type": "stream",
          "text": [
            "541it [04:42,  2.36it/s]"
          ]
        },
        {
          "name": "stdout",
          "output_type": "stream",
          "text": [
            "https://entertain.naver.com/read?oid=416&aid=0000289099\n"
          ]
        },
        {
          "name": "stderr",
          "output_type": "stream",
          "text": [
            "545it [04:43,  4.83it/s]"
          ]
        },
        {
          "name": "stdout",
          "output_type": "stream",
          "text": [
            "https://entertain.naver.com/read?oid=416&aid=0000289086\n"
          ]
        },
        {
          "name": "stderr",
          "output_type": "stream",
          "text": [
            "565it [04:53,  1.73it/s]"
          ]
        },
        {
          "name": "stdout",
          "output_type": "stream",
          "text": [
            "https://entertain.naver.com/read?oid=416&aid=0000289075\n"
          ]
        },
        {
          "name": "stderr",
          "output_type": "stream",
          "text": [
            "596it [05:05,  4.14it/s]"
          ]
        },
        {
          "name": "stdout",
          "output_type": "stream",
          "text": [
            "https://entertain.naver.com/read?oid=416&aid=0000289035\n"
          ]
        },
        {
          "name": "stderr",
          "output_type": "stream",
          "text": [
            "608it [05:11,  1.53it/s]"
          ]
        },
        {
          "name": "stdout",
          "output_type": "stream",
          "text": [
            "https://entertain.naver.com/read?oid=416&aid=0000289022\n",
            "https://entertain.naver.com/read?oid=416&aid=0000289023\n"
          ]
        },
        {
          "name": "stderr",
          "output_type": "stream",
          "text": [
            "632it [05:24,  3.52it/s]"
          ]
        },
        {
          "name": "stdout",
          "output_type": "stream",
          "text": [
            "https://entertain.naver.com/read?oid=416&aid=0000289019\n"
          ]
        },
        {
          "name": "stderr",
          "output_type": "stream",
          "text": [
            "643it [05:29,  2.40it/s]"
          ]
        },
        {
          "name": "stdout",
          "output_type": "stream",
          "text": [
            "https://entertain.naver.com/read?oid=416&aid=0000289015\n",
            "https://sports.news.naver.com/news.nhn?oid=055&aid=0001009349\n"
          ]
        },
        {
          "name": "stderr",
          "output_type": "stream",
          "text": [
            "673it [05:59,  1.87it/s]\n"
          ]
        }
      ],
      "source": [
        "df = pd.DataFrame()\n",
        "for url, vid in tqdm(zip(urls['0'], urls['1'])):\n",
        "    try:\n",
        "        oid = re.findall('article/([^\\*]*)/', str(url))[0]\n",
        "        aid = re.findall(f'{oid}/([^\\*]*)[?]', str(url))[0]\n",
        "        sid = url[-3:]\n",
        "        temp = get_data(oid, aid)\n",
        "        temp['vid'] = vid\n",
        "        temp['sid'] = sid\n",
        "        df =pd.concat([df, temp])\n",
        "    except:\n",
        "        print(url)"
      ]
    },
    {
      "cell_type": "code",
      "execution_count": 143,
      "metadata": {},
      "outputs": [],
      "source": [
        "df['media'] = 'SBS'"
      ]
    },
    {
      "cell_type": "code",
      "execution_count": 144,
      "metadata": {},
      "outputs": [
        {
          "data": {
            "text/html": [
              "<div>\n",
              "<style scoped>\n",
              "    .dataframe tbody tr th:only-of-type {\n",
              "        vertical-align: middle;\n",
              "    }\n",
              "\n",
              "    .dataframe tbody tr th {\n",
              "        vertical-align: top;\n",
              "    }\n",
              "\n",
              "    .dataframe thead th {\n",
              "        text-align: right;\n",
              "    }\n",
              "</style>\n",
              "<table border=\"1\" class=\"dataframe\">\n",
              "  <thead>\n",
              "    <tr style=\"text-align: right;\">\n",
              "      <th></th>\n",
              "      <th>text</th>\n",
              "      <th>reply_count</th>\n",
              "      <th>uid</th>\n",
              "      <th>uname</th>\n",
              "      <th>like</th>\n",
              "      <th>dislike</th>\n",
              "      <th>c_time</th>\n",
              "      <th>cid</th>\n",
              "      <th>pid</th>\n",
              "      <th>vid</th>\n",
              "      <th>sid</th>\n",
              "      <th>media</th>\n",
              "    </tr>\n",
              "  </thead>\n",
              "  <tbody>\n",
              "    <tr>\n",
              "      <th>0</th>\n",
              "      <td>부실대응이 아니다 사고현장 근처에서 쳐다보면서 사고나 다 죽은다음에 나타난 이임재 ...</td>\n",
              "      <td>0.0</td>\n",
              "      <td>8UQLL</td>\n",
              "      <td>sktp****</td>\n",
              "      <td>0.0</td>\n",
              "      <td>0.0</td>\n",
              "      <td>2022-11-16T18:30:09+0900</td>\n",
              "      <td>775140889709248570</td>\n",
              "      <td>775140889709248570</td>\n",
              "      <td>https://news.sbs.co.kr/news/endPage.do?news_id...</td>\n",
              "      <td>100</td>\n",
              "      <td>SBS</td>\n",
              "    </tr>\n",
              "    <tr>\n",
              "      <th>1</th>\n",
              "      <td>언제부터 우리나라 법무장관이 정치중심에서 시시콜콜 나서서 지랄을했나 일개장관이 날마...</td>\n",
              "      <td>0.0</td>\n",
              "      <td>6jaic</td>\n",
              "      <td>ig17****</td>\n",
              "      <td>0.0</td>\n",
              "      <td>0.0</td>\n",
              "      <td>2022-11-16T09:12:52+0900</td>\n",
              "      <td>775104987272315249</td>\n",
              "      <td>775104987272315249</td>\n",
              "      <td>https://news.sbs.co.kr/news/endPage.do?news_id...</td>\n",
              "      <td>100</td>\n",
              "      <td>SBS</td>\n",
              "    </tr>\n",
              "    <tr>\n",
              "      <th>2</th>\n",
              "      <td>저런 좌빨 국개 반역자들에게 세비와 보좌진의 급여로 국민혈세가 나가는게 너무나 아깝다.</td>\n",
              "      <td>0.0</td>\n",
              "      <td>1ATdw</td>\n",
              "      <td>psh7****</td>\n",
              "      <td>0.0</td>\n",
              "      <td>0.0</td>\n",
              "      <td>2022-11-16T09:12:15+0900</td>\n",
              "      <td>775104948047183996</td>\n",
              "      <td>775104948047183996</td>\n",
              "      <td>https://news.sbs.co.kr/news/endPage.do?news_id...</td>\n",
              "      <td>100</td>\n",
              "      <td>SBS</td>\n",
              "    </tr>\n",
              "    <tr>\n",
              "      <th>3</th>\n",
              "      <td>한장관  이런쓰레기들입에담지마라</td>\n",
              "      <td>0.0</td>\n",
              "      <td>6sWuV</td>\n",
              "      <td>guho****</td>\n",
              "      <td>0.0</td>\n",
              "      <td>0.0</td>\n",
              "      <td>2022-11-16T05:55:51+0900</td>\n",
              "      <td>775092295039975641</td>\n",
              "      <td>775092295039975641</td>\n",
              "      <td>https://news.sbs.co.kr/news/endPage.do?news_id...</td>\n",
              "      <td>100</td>\n",
              "      <td>SBS</td>\n",
              "    </tr>\n",
              "    <tr>\n",
              "      <th>4</th>\n",
              "      <td>깐죽싸패관종동훈이를 끝장내라 천명한다</td>\n",
              "      <td>0.0</td>\n",
              "      <td>3nMIC</td>\n",
              "      <td>drea****</td>\n",
              "      <td>0.0</td>\n",
              "      <td>1.0</td>\n",
              "      <td>2022-11-16T03:41:29+0900</td>\n",
              "      <td>775083638466281615</td>\n",
              "      <td>775083638466281615</td>\n",
              "      <td>https://news.sbs.co.kr/news/endPage.do?news_id...</td>\n",
              "      <td>100</td>\n",
              "      <td>SBS</td>\n",
              "    </tr>\n",
              "    <tr>\n",
              "      <th>...</th>\n",
              "      <td>...</td>\n",
              "      <td>...</td>\n",
              "      <td>...</td>\n",
              "      <td>...</td>\n",
              "      <td>...</td>\n",
              "      <td>...</td>\n",
              "      <td>...</td>\n",
              "      <td>...</td>\n",
              "      <td>...</td>\n",
              "      <td>...</td>\n",
              "      <td>...</td>\n",
              "      <td>...</td>\n",
              "    </tr>\n",
              "    <tr>\n",
              "      <th>66079</th>\n",
              "      <td>베트남간 김진태도 그렇고 얘네는 일터졌는데 해외 나가있나.</td>\n",
              "      <td>0.0</td>\n",
              "      <td>MlGd</td>\n",
              "      <td>eyw0****</td>\n",
              "      <td>19.0</td>\n",
              "      <td>9.0</td>\n",
              "      <td>2022-10-30T03:42:45+0900</td>\n",
              "      <td>773506607374926035</td>\n",
              "      <td>773506607374926035</td>\n",
              "      <td>https://news.sbs.co.kr/news/endPage.do?news_id...</td>\n",
              "      <td>102</td>\n",
              "      <td>SBS</td>\n",
              "    </tr>\n",
              "    <tr>\n",
              "      <th>66080</th>\n",
              "      <td>정치병자들 구경왔다 이런 사고에도 대가리가 그런쪽밖에 안굴러가네 명복은 못 빌어줄망...</td>\n",
              "      <td>0.0</td>\n",
              "      <td>1sUf6</td>\n",
              "      <td>park****</td>\n",
              "      <td>1.0</td>\n",
              "      <td>3.0</td>\n",
              "      <td>2022-10-30T03:41:47+0900</td>\n",
              "      <td>773506545332781263</td>\n",
              "      <td>773506545332781263</td>\n",
              "      <td>https://news.sbs.co.kr/news/endPage.do?news_id...</td>\n",
              "      <td>102</td>\n",
              "      <td>SBS</td>\n",
              "    </tr>\n",
              "    <tr>\n",
              "      <th>66081</th>\n",
              "      <td>입에  재갈물리고   정치적   입단속은  시키면서   ....  간신히   선거권...</td>\n",
              "      <td>0.0</td>\n",
              "      <td>3OM2u</td>\n",
              "      <td>doga****</td>\n",
              "      <td>4.0</td>\n",
              "      <td>6.0</td>\n",
              "      <td>2022-10-30T03:38:12+0900</td>\n",
              "      <td>773506314545397825</td>\n",
              "      <td>773506314545397825</td>\n",
              "      <td>https://news.sbs.co.kr/news/endPage.do?news_id...</td>\n",
              "      <td>102</td>\n",
              "      <td>SBS</td>\n",
              "    </tr>\n",
              "    <tr>\n",
              "      <th>66082</th>\n",
              "      <td>유럽? 구태 그대로구나</td>\n",
              "      <td>0.0</td>\n",
              "      <td>5lvOG</td>\n",
              "      <td>tjrt****</td>\n",
              "      <td>2.0</td>\n",
              "      <td>3.0</td>\n",
              "      <td>2022-10-30T03:33:10+0900</td>\n",
              "      <td>773505990359253041</td>\n",
              "      <td>773505990359253041</td>\n",
              "      <td>https://news.sbs.co.kr/news/endPage.do?news_id...</td>\n",
              "      <td>102</td>\n",
              "      <td>SBS</td>\n",
              "    </tr>\n",
              "    <tr>\n",
              "      <th>66083</th>\n",
              "      <td>서울시장이 서울이나 지키고 앉었지 뭐러 유럽은 나갑니까   당신이 대통령입니까?  ...</td>\n",
              "      <td>1.0</td>\n",
              "      <td>1x7OT</td>\n",
              "      <td>deuk****</td>\n",
              "      <td>14.0</td>\n",
              "      <td>15.0</td>\n",
              "      <td>2022-10-30T03:29:08+0900</td>\n",
              "      <td>773505730882830368</td>\n",
              "      <td>773505730882830368</td>\n",
              "      <td>https://news.sbs.co.kr/news/endPage.do?news_id...</td>\n",
              "      <td>102</td>\n",
              "      <td>SBS</td>\n",
              "    </tr>\n",
              "  </tbody>\n",
              "</table>\n",
              "<p>66084 rows × 12 columns</p>\n",
              "</div>"
            ],
            "text/plain": [
              "                                                    text  reply_count    uid  \\\n",
              "0      부실대응이 아니다 사고현장 근처에서 쳐다보면서 사고나 다 죽은다음에 나타난 이임재 ...          0.0  8UQLL   \n",
              "1      언제부터 우리나라 법무장관이 정치중심에서 시시콜콜 나서서 지랄을했나 일개장관이 날마...          0.0  6jaic   \n",
              "2       저런 좌빨 국개 반역자들에게 세비와 보좌진의 급여로 국민혈세가 나가는게 너무나 아깝다.          0.0  1ATdw   \n",
              "3                                      한장관  이런쓰레기들입에담지마라          0.0  6sWuV   \n",
              "4                                   깐죽싸패관종동훈이를 끝장내라 천명한다          0.0  3nMIC   \n",
              "...                                                  ...          ...    ...   \n",
              "66079                   베트남간 김진태도 그렇고 얘네는 일터졌는데 해외 나가있나.          0.0   MlGd   \n",
              "66080  정치병자들 구경왔다 이런 사고에도 대가리가 그런쪽밖에 안굴러가네 명복은 못 빌어줄망...          0.0  1sUf6   \n",
              "66081  입에  재갈물리고   정치적   입단속은  시키면서   ....  간신히   선거권...          0.0  3OM2u   \n",
              "66082                                       유럽? 구태 그대로구나          0.0  5lvOG   \n",
              "66083  서울시장이 서울이나 지키고 앉었지 뭐러 유럽은 나갑니까   당신이 대통령입니까?  ...          1.0  1x7OT   \n",
              "\n",
              "          uname  like  dislike                    c_time                 cid  \\\n",
              "0      sktp****   0.0      0.0  2022-11-16T18:30:09+0900  775140889709248570   \n",
              "1      ig17****   0.0      0.0  2022-11-16T09:12:52+0900  775104987272315249   \n",
              "2      psh7****   0.0      0.0  2022-11-16T09:12:15+0900  775104948047183996   \n",
              "3      guho****   0.0      0.0  2022-11-16T05:55:51+0900  775092295039975641   \n",
              "4      drea****   0.0      1.0  2022-11-16T03:41:29+0900  775083638466281615   \n",
              "...         ...   ...      ...                       ...                 ...   \n",
              "66079  eyw0****  19.0      9.0  2022-10-30T03:42:45+0900  773506607374926035   \n",
              "66080  park****   1.0      3.0  2022-10-30T03:41:47+0900  773506545332781263   \n",
              "66081  doga****   4.0      6.0  2022-10-30T03:38:12+0900  773506314545397825   \n",
              "66082  tjrt****   2.0      3.0  2022-10-30T03:33:10+0900  773505990359253041   \n",
              "66083  deuk****  14.0     15.0  2022-10-30T03:29:08+0900  773505730882830368   \n",
              "\n",
              "                      pid                                                vid  \\\n",
              "0      775140889709248570  https://news.sbs.co.kr/news/endPage.do?news_id...   \n",
              "1      775104987272315249  https://news.sbs.co.kr/news/endPage.do?news_id...   \n",
              "2      775104948047183996  https://news.sbs.co.kr/news/endPage.do?news_id...   \n",
              "3      775092295039975641  https://news.sbs.co.kr/news/endPage.do?news_id...   \n",
              "4      775083638466281615  https://news.sbs.co.kr/news/endPage.do?news_id...   \n",
              "...                   ...                                                ...   \n",
              "66079  773506607374926035  https://news.sbs.co.kr/news/endPage.do?news_id...   \n",
              "66080  773506545332781263  https://news.sbs.co.kr/news/endPage.do?news_id...   \n",
              "66081  773506314545397825  https://news.sbs.co.kr/news/endPage.do?news_id...   \n",
              "66082  773505990359253041  https://news.sbs.co.kr/news/endPage.do?news_id...   \n",
              "66083  773505730882830368  https://news.sbs.co.kr/news/endPage.do?news_id...   \n",
              "\n",
              "       sid media  \n",
              "0      100   SBS  \n",
              "1      100   SBS  \n",
              "2      100   SBS  \n",
              "3      100   SBS  \n",
              "4      100   SBS  \n",
              "...    ...   ...  \n",
              "66079  102   SBS  \n",
              "66080  102   SBS  \n",
              "66081  102   SBS  \n",
              "66082  102   SBS  \n",
              "66083  102   SBS  \n",
              "\n",
              "[66084 rows x 12 columns]"
            ]
          },
          "execution_count": 144,
          "metadata": {},
          "output_type": "execute_result"
        }
      ],
      "source": [
        "df.reset_index(drop=True)"
      ]
    },
    {
      "cell_type": "code",
      "execution_count": 145,
      "metadata": {},
      "outputs": [],
      "source": [
        "df.reset_index(drop=True).to_pickle('../result/textom_SBS_comments.pkl')\n",
        "df.reset_index(drop=True).to_csv('../result/textom_SBS_comments.csv')"
      ]
    },
    {
      "cell_type": "code",
      "execution_count": 146,
      "metadata": {},
      "outputs": [],
      "source": [
        "df['ymd'] = df.c_time.apply(lambda x : x[:10])"
      ]
    },
    {
      "cell_type": "code",
      "execution_count": 147,
      "metadata": {},
      "outputs": [
        {
          "data": {
            "text/plain": [
              "[<matplotlib.lines.Line2D at 0x7fde3b337610>]"
            ]
          },
          "execution_count": 147,
          "metadata": {},
          "output_type": "execute_result"
        },
        {
          "data": {
            "image/png": "[encoded data removed]",
            "text/plain": [
              "<Figure size 432x288 with 1 Axes>"
            ]
          },
          "metadata": {
            "needs_background": "light"
          },
          "output_type": "display_data"
        }
      ],
      "source": [
        "import matplotlib.pyplot as plt\n",
        "\n",
        "plt.plot(df['ymd'].value_counts())"
      ]
    },
    {
      "cell_type": "code",
      "execution_count": 148,
      "metadata": {},
      "outputs": [
        {
          "data": {
            "text/html": [
              "<div>\n",
              "<style scoped>\n",
              "    .dataframe tbody tr th:only-of-type {\n",
              "        vertical-align: middle;\n",
              "    }\n",
              "\n",
              "    .dataframe tbody tr th {\n",
              "        vertical-align: top;\n",
              "    }\n",
              "\n",
              "    .dataframe thead th {\n",
              "        text-align: right;\n",
              "    }\n",
              "</style>\n",
              "<table border=\"1\" class=\"dataframe\">\n",
              "  <thead>\n",
              "    <tr style=\"text-align: right;\">\n",
              "      <th></th>\n",
              "      <th>Unnamed: 0</th>\n",
              "      <th>0</th>\n",
              "      <th>1</th>\n",
              "    </tr>\n",
              "  </thead>\n",
              "  <tbody>\n",
              "    <tr>\n",
              "      <th>0</th>\n",
              "      <td>0</td>\n",
              "      <td>https://n.news.naver.com/mnews/article/055/000...</td>\n",
              "      <td>https://news.sbs.co.kr/news/endPage.do?news_id...</td>\n",
              "    </tr>\n",
              "    <tr>\n",
              "      <th>1</th>\n",
              "      <td>1</td>\n",
              "      <td>https://n.news.naver.com/mnews/article/055/000...</td>\n",
              "      <td>https://news.sbs.co.kr/news/endPage.do?news_id...</td>\n",
              "    </tr>\n",
              "    <tr>\n",
              "      <th>2</th>\n",
              "      <td>2</td>\n",
              "      <td>https://n.news.naver.com/mnews/article/055/000...</td>\n",
              "      <td>https://news.sbs.co.kr/news/endPage.do?news_id...</td>\n",
              "    </tr>\n",
              "    <tr>\n",
              "      <th>3</th>\n",
              "      <td>3</td>\n",
              "      <td>https://n.news.naver.com/mnews/article/055/000...</td>\n",
              "      <td>https://news.sbs.co.kr/news/endPage.do?news_id...</td>\n",
              "    </tr>\n",
              "    <tr>\n",
              "      <th>4</th>\n",
              "      <td>4</td>\n",
              "      <td>https://n.news.naver.com/mnews/article/055/000...</td>\n",
              "      <td>https://news.sbs.co.kr/news/endPage.do?news_id...</td>\n",
              "    </tr>\n",
              "    <tr>\n",
              "      <th>...</th>\n",
              "      <td>...</td>\n",
              "      <td>...</td>\n",
              "      <td>...</td>\n",
              "    </tr>\n",
              "    <tr>\n",
              "      <th>668</th>\n",
              "      <td>668</td>\n",
              "      <td>https://n.news.naver.com/mnews/article/055/000...</td>\n",
              "      <td>https://news.sbs.co.kr/news/endPage.do?news_id...</td>\n",
              "    </tr>\n",
              "    <tr>\n",
              "      <th>669</th>\n",
              "      <td>669</td>\n",
              "      <td>https://n.news.naver.com/mnews/article/055/000...</td>\n",
              "      <td>https://news.sbs.co.kr/news/endPage.do?news_id...</td>\n",
              "    </tr>\n",
              "    <tr>\n",
              "      <th>670</th>\n",
              "      <td>670</td>\n",
              "      <td>https://n.news.naver.com/mnews/article/055/000...</td>\n",
              "      <td>https://news.sbs.co.kr/news/endPage.do?news_id...</td>\n",
              "    </tr>\n",
              "    <tr>\n",
              "      <th>671</th>\n",
              "      <td>671</td>\n",
              "      <td>https://n.news.naver.com/mnews/article/055/000...</td>\n",
              "      <td>https://news.sbs.co.kr/news/endPage.do?news_id...</td>\n",
              "    </tr>\n",
              "    <tr>\n",
              "      <th>672</th>\n",
              "      <td>672</td>\n",
              "      <td>https://n.news.naver.com/mnews/article/055/000...</td>\n",
              "      <td>https://news.sbs.co.kr/news/endPage.do?news_id...</td>\n",
              "    </tr>\n",
              "  </tbody>\n",
              "</table>\n",
              "<p>673 rows × 3 columns</p>\n",
              "</div>"
            ],
            "text/plain": [
              "     Unnamed: 0                                                  0  \\\n",
              "0             0  https://n.news.naver.com/mnews/article/055/000...   \n",
              "1             1  https://n.news.naver.com/mnews/article/055/000...   \n",
              "2             2  https://n.news.naver.com/mnews/article/055/000...   \n",
              "3             3  https://n.news.naver.com/mnews/article/055/000...   \n",
              "4             4  https://n.news.naver.com/mnews/article/055/000...   \n",
              "..          ...                                                ...   \n",
              "668         668  https://n.news.naver.com/mnews/article/055/000...   \n",
              "669         669  https://n.news.naver.com/mnews/article/055/000...   \n",
              "670         670  https://n.news.naver.com/mnews/article/055/000...   \n",
              "671         671  https://n.news.naver.com/mnews/article/055/000...   \n",
              "672         672  https://n.news.naver.com/mnews/article/055/000...   \n",
              "\n",
              "                                                     1  \n",
              "0    https://news.sbs.co.kr/news/endPage.do?news_id...  \n",
              "1    https://news.sbs.co.kr/news/endPage.do?news_id...  \n",
              "2    https://news.sbs.co.kr/news/endPage.do?news_id...  \n",
              "3    https://news.sbs.co.kr/news/endPage.do?news_id...  \n",
              "4    https://news.sbs.co.kr/news/endPage.do?news_id...  \n",
              "..                                                 ...  \n",
              "668  https://news.sbs.co.kr/news/endPage.do?news_id...  \n",
              "669  https://news.sbs.co.kr/news/endPage.do?news_id...  \n",
              "670  https://news.sbs.co.kr/news/endPage.do?news_id...  \n",
              "671  https://news.sbs.co.kr/news/endPage.do?news_id...  \n",
              "672  https://news.sbs.co.kr/news/endPage.do?news_id...  \n",
              "\n",
              "[673 rows x 3 columns]"
            ]
          },
          "execution_count": 148,
          "metadata": {},
          "output_type": "execute_result"
        }
      ],
      "source": [
        "urls"
      ]
    },
    {
      "cell_type": "code",
      "execution_count": 149,
      "metadata": {},
      "outputs": [],
      "source": [
        "news = pd.read_excel(\"/home/mglee/VSCODE/git_folder/TEXTOM/data/2022-11-22 16_23_54_2354_.xlsx\")"
      ]
    },
    {
      "cell_type": "code",
      "execution_count": 150,
      "metadata": {},
      "outputs": [
        {
          "data": {
            "text/html": [
              "<div>\n",
              "<style scoped>\n",
              "    .dataframe tbody tr th:only-of-type {\n",
              "        vertical-align: middle;\n",
              "    }\n",
              "\n",
              "    .dataframe tbody tr th {\n",
              "        vertical-align: top;\n",
              "    }\n",
              "\n",
              "    .dataframe thead th {\n",
              "        text-align: right;\n",
              "    }\n",
              "</style>\n",
              "<table border=\"1\" class=\"dataframe\">\n",
              "  <thead>\n",
              "    <tr style=\"text-align: right;\">\n",
              "      <th></th>\n",
              "      <th>국가 배상 소송 본격화…정부 \"선제적 배상 검토\"</th>\n",
              "      <th>https://news.sbs.co.kr/news/endPage.do?news_id=N1006972031&amp;plink=SEARCH&amp;cooper=SBSNEWSSEARCH</th>\n",
              "      <th>&amp;&lt;앵커&amp;&gt; 이런 가운데 국가를 상대로 손해배상 소송을 준비하는 유족들도 있습니다. 정부는 수사 결과에 따라서 먼저 보상금 또는 배상금을 지급할 가능성도 있다고 밝혔습니다. 이 내용은 박찬근 기자가 전하겠습니다. &amp;&lt;기자&amp;&gt; 참사의 국가 책임을 묻겠다며 열 가족이 한 변호사단체가 운영하는 공익 제보 센터 문을 두드렸습니다. 결혼식을 6개월 앞두고 숨진 예비부부의 양가 부모, 20대 새내기 직장인의 유족 등 각자 사연은 다르지만, 참사 원인을 규명해 책임이 국가에 있음을 밝히겠다는 의지는 같습니다. [전수미/굿로이어스 공익제보센터 변호사 : 결혼식이 아니라 하늘로 보내야 했던 입장이라서 너무나 많이 힘들어 하시고. 아이들을 잊고 싶어하지 않고 아이들을 위해서 행동하고 싶어 하시는 거죠.] 국가배상법에 따라 참사가 예견되는 상황에도 경찰관 직무집행법 등에 따른 예방 조치를 고의 또는 과실로 하지 않았다는 게 수사로 확인되면 배상 책임이 성립할 수 있습니다. 112 신고를 받은 경찰의 미흡한 대처로 여성이 살해당한 오원춘 사건, 경찰과 보호관찰관의 허술한 수사와 감독이 주부 살인으로 이어진 중곡동 사건 등에서 대법원은 국가의 책임을 인정한 적 있습니다. 국가의 직무상 의무 위반과 피해자 사망 사이의 인과관계가 있는 만큼 국가 책임이 있다고 본 건데, 이태원 참사의 국가 배상도 경찰과 구청 등의 직무 위반이 압사와 인과관계가 있는지가 판단 기준이 될 걸로 보입니다. 정부는 선제적인 배상 가능성도 열어두고 있습니다. [한동훈/법무부 장관 : 수사 결과에 따라서 정부가 책임 있는 피해 구제를 할 것이라고 생각합니다.] [김한규/민주당 의원 : (정부가) 먼저 보상금, 또는 배상금을 지급할 가능성도 있습니까?] [한동훈/법무부 장관 : 당연합니다. 당연한 말씀이죠.] 대한변호사협회와 민주사회를 위한 변호사모임도 유족들의 국가 배상 청구를 지원하겠다고 밝혔습니다. (영상취재 : 강동철·김세경, 영상편집 : 원형희, CG : 류상수) ▶ [단독] 대구 핼러윈엔 기동대…&amp;'국가 책임 법리 검토&amp;' ▶ 행안부 · 서울시 관계자 줄소환…&amp;apos;재난상황실&amp;apos; 정조준</th>\n",
              "    </tr>\n",
              "  </thead>\n",
              "  <tbody>\n",
              "    <tr>\n",
              "      <th>0</th>\n",
              "      <td>국회 행안위, 내일 이임재 전 용산서장 불러 &amp;apos;부실대응&amp;apos; 추궁</td>\n",
              "      <td>https://news.sbs.co.kr/news/endPage.do?news_id...</td>\n",
              "      <td>국회 행정안전위원회는 내일(16일) 오후 전체회의에 이태원 참사 당시 현장 총괄 책...</td>\n",
              "    </tr>\n",
              "    <tr>\n",
              "      <th>1</th>\n",
              "      <td>이상민 \"현장 실무자 수사, &amp;apos;꼬리 자르기&amp;apos; 아니다\"</td>\n",
              "      <td>https://news.sbs.co.kr/news/endPage.do?news_id...</td>\n",
              "      <td>이상민 행정안전부 장관은 경찰 특별수사본부의 이태원 참사 수사가 당시 현장에 있던 ...</td>\n",
              "    </tr>\n",
              "    <tr>\n",
              "      <th>2</th>\n",
              "      <td>한중 정상, G20 회의장서 사전 환담…시진핑 \"오늘 회담 기대\"</td>\n",
              "      <td>https://news.sbs.co.kr/news/endPage.do?news_id...</td>\n",
              "      <td>윤석열 대통령은 15일(현지시간) 인도네시아 발리에서 개막한 주요 20개국, G20...</td>\n",
              "    </tr>\n",
              "    <tr>\n",
              "      <th>3</th>\n",
              "      <td>특수본, 피의자 조사 본격화…용산서 정보과장 소환</td>\n",
              "      <td>https://news.sbs.co.kr/news/endPage.do?news_id...</td>\n",
              "      <td>이태원 참사를 수사 중인 경찰 특별수사본부(특수본)는 오늘(15일) 낮 2시 핼러윈...</td>\n",
              "    </tr>\n",
              "    <tr>\n",
              "      <th>4</th>\n",
              "      <td>법원 \"박원순 성희롱 인정한 국가인권위 결정 적절\"</td>\n",
              "      <td>https://news.sbs.co.kr/news/endPage.do?news_id...</td>\n",
              "      <td>서울행정법원은 고 박원순 전 서울시장이 부하직원을 성희롱했다고 본 국가인권위원회의 ...</td>\n",
              "    </tr>\n",
              "    <tr>\n",
              "      <th>...</th>\n",
              "      <td>...</td>\n",
              "      <td>...</td>\n",
              "      <td>...</td>\n",
              "    </tr>\n",
              "    <tr>\n",
              "      <th>994</th>\n",
              "      <td>서울시, 이태원 일대 임시 버스·지하철 투입…\"속히 귀가\"</td>\n",
              "      <td>https://news.sbs.co.kr/news/endPage.do?news_id...</td>\n",
              "      <td>▲ 이태원 사고 현장 서울시는 대형 압사 참사가 발생한 용산구 이태원 일대에 임시 ...</td>\n",
              "    </tr>\n",
              "    <tr>\n",
              "      <th>995</th>\n",
              "      <td>\" 이태원 압사 참사 사망자 120명, 상당수가 20대\"</td>\n",
              "      <td>https://news.sbs.co.kr/news/endPage.do?news_id...</td>\n",
              "      <td>&amp;&lt;앵커&amp;&gt; 지금 이태원 사고 현장에 나가 있는 손기준 기자 연결해보겠습니다. 손 ...</td>\n",
              "    </tr>\n",
              "    <tr>\n",
              "      <th>996</th>\n",
              "      <td>尹, &amp;apos; 이태원 사고&amp;apos; 긴급회의…\"이송·치료 외 차량·인원 통제\"</td>\n",
              "      <td>https://news.sbs.co.kr/news/endPage.do?news_id...</td>\n",
              "      <td>윤석열 대통령이 서울 이태원 핼러윈 행사에서 대규모 인파가 몰리면서 발생한 사고와 ...</td>\n",
              "    </tr>\n",
              "    <tr>\n",
              "      <th>997</th>\n",
              "      <td>서울시 \"&amp;apos;급거 귀국&amp;apos; 오세훈 시장, 오후 4시 10분쯤 도착\"</td>\n",
              "      <td>https://news.sbs.co.kr/news/endPage.do?news_id...</td>\n",
              "      <td>유럽 출장 중인 오세훈 서울시장이 서울 용산구 이태원동에서 대규모 압사 사고가 발생...</td>\n",
              "    </tr>\n",
              "    <tr>\n",
              "      <th>998</th>\n",
              "      <td>윤 대통령, 용산 청사서 &amp;apos; 이태원 사고&amp;apos; 긴급점검회의 주재</td>\n",
              "      <td>https://news.sbs.co.kr/news/endPage.do?news_id...</td>\n",
              "      <td>윤석열 대통령은 30일 서울 이태원 핼러윈 행사에서 대규모 인파가 몰리면서 발생한 ...</td>\n",
              "    </tr>\n",
              "  </tbody>\n",
              "</table>\n",
              "<p>999 rows × 3 columns</p>\n",
              "</div>"
            ],
            "text/plain": [
              "                        국가 배상 소송 본격화…정부 \"선제적 배상 검토\"  \\\n",
              "0      국회 행안위, 내일 이임재 전 용산서장 불러 &apos;부실대응&apos; 추궁   \n",
              "1           이상민 \"현장 실무자 수사, &apos;꼬리 자르기&apos; 아니다\"   \n",
              "2              한중 정상, G20 회의장서 사전 환담…시진핑 \"오늘 회담 기대\"   \n",
              "3                       특수본, 피의자 조사 본격화…용산서 정보과장 소환   \n",
              "4                      법원 \"박원순 성희롱 인정한 국가인권위 결정 적절\"   \n",
              "..                                              ...   \n",
              "994                서울시, 이태원 일대 임시 버스·지하철 투입…\"속히 귀가\"   \n",
              "995                 \" 이태원 압사 참사 사망자 120명, 상당수가 20대\"   \n",
              "996  尹, &apos; 이태원 사고&apos; 긴급회의…\"이송·치료 외 차량·인원 통제\"   \n",
              "997   서울시 \"&apos;급거 귀국&apos; 오세훈 시장, 오후 4시 10분쯤 도착\"   \n",
              "998     윤 대통령, 용산 청사서 &apos; 이태원 사고&apos; 긴급점검회의 주재   \n",
              "\n",
              "    https://news.sbs.co.kr/news/endPage.do?news_id=N1006972031&plink=SEARCH&cooper=SBSNEWSSEARCH  \\\n",
              "0    https://news.sbs.co.kr/news/endPage.do?news_id...                                             \n",
              "1    https://news.sbs.co.kr/news/endPage.do?news_id...                                             \n",
              "2    https://news.sbs.co.kr/news/endPage.do?news_id...                                             \n",
              "3    https://news.sbs.co.kr/news/endPage.do?news_id...                                             \n",
              "4    https://news.sbs.co.kr/news/endPage.do?news_id...                                             \n",
              "..                                                 ...                                             \n",
              "994  https://news.sbs.co.kr/news/endPage.do?news_id...                                             \n",
              "995  https://news.sbs.co.kr/news/endPage.do?news_id...                                             \n",
              "996  https://news.sbs.co.kr/news/endPage.do?news_id...                                             \n",
              "997  https://news.sbs.co.kr/news/endPage.do?news_id...                                             \n",
              "998  https://news.sbs.co.kr/news/endPage.do?news_id...                                             \n",
              "\n",
              "    &<앵커&> 이런 가운데 국가를 상대로 손해배상 소송을 준비하는 유족들도 있습니다. 정부는 수사 결과에 따라서 먼저 보상금 또는 배상금을 지급할 가능성도 있다고 밝혔습니다. 이 내용은 박찬근 기자가 전하겠습니다. &<기자&> 참사의 국가 책임을 묻겠다며 열 가족이 한 변호사단체가 운영하는 공익 제보 센터 문을 두드렸습니다. 결혼식을 6개월 앞두고 숨진 예비부부의 양가 부모, 20대 새내기 직장인의 유족 등 각자 사연은 다르지만, 참사 원인을 규명해 책임이 국가에 있음을 밝히겠다는 의지는 같습니다. [전수미/굿로이어스 공익제보센터 변호사 : 결혼식이 아니라 하늘로 보내야 했던 입장이라서 너무나 많이 힘들어 하시고. 아이들을 잊고 싶어하지 않고 아이들을 위해서 행동하고 싶어 하시는 거죠.] 국가배상법에 따라 참사가 예견되는 상황에도 경찰관 직무집행법 등에 따른 예방 조치를 고의 또는 과실로 하지 않았다는 게 수사로 확인되면 배상 책임이 성립할 수 있습니다. 112 신고를 받은 경찰의 미흡한 대처로 여성이 살해당한 오원춘 사건, 경찰과 보호관찰관의 허술한 수사와 감독이 주부 살인으로 이어진 중곡동 사건 등에서 대법원은 국가의 책임을 인정한 적 있습니다. 국가의 직무상 의무 위반과 피해자 사망 사이의 인과관계가 있는 만큼 국가 책임이 있다고 본 건데, 이태원 참사의 국가 배상도 경찰과 구청 등의 직무 위반이 압사와 인과관계가 있는지가 판단 기준이 될 걸로 보입니다. 정부는 선제적인 배상 가능성도 열어두고 있습니다. [한동훈/법무부 장관 : 수사 결과에 따라서 정부가 책임 있는 피해 구제를 할 것이라고 생각합니다.] [김한규/민주당 의원 : (정부가) 먼저 보상금, 또는 배상금을 지급할 가능성도 있습니까?] [한동훈/법무부 장관 : 당연합니다. 당연한 말씀이죠.] 대한변호사협회와 민주사회를 위한 변호사모임도 유족들의 국가 배상 청구를 지원하겠다고 밝혔습니다. (영상취재 : 강동철·김세경, 영상편집 : 원형희, CG : 류상수) ▶ [단독] 대구 핼러윈엔 기동대…&'국가 책임 법리 검토&' ▶ 행안부 · 서울시 관계자 줄소환…&apos;재난상황실&apos; 정조준  \n",
              "0    국회 행정안전위원회는 내일(16일) 오후 전체회의에 이태원 참사 당시 현장 총괄 책...                                                                                                                                                                                                                                                                                                                                                                                                                                                                                                                                                                                                                                                                                                                                                                                                                                                                                                                                                                                                                                             \n",
              "1    이상민 행정안전부 장관은 경찰 특별수사본부의 이태원 참사 수사가 당시 현장에 있던 ...                                                                                                                                                                                                                                                                                                                                                                                                                                                                                                                                                                                                                                                                                                                                                                                                                                                                                                                                                                                                                                             \n",
              "2    윤석열 대통령은 15일(현지시간) 인도네시아 발리에서 개막한 주요 20개국, G20...                                                                                                                                                                                                                                                                                                                                                                                                                                                                                                                                                                                                                                                                                                                                                                                                                                                                                                                                                                                                                                             \n",
              "3    이태원 참사를 수사 중인 경찰 특별수사본부(특수본)는 오늘(15일) 낮 2시 핼러윈...                                                                                                                                                                                                                                                                                                                                                                                                                                                                                                                                                                                                                                                                                                                                                                                                                                                                                                                                                                                                                                             \n",
              "4    서울행정법원은 고 박원순 전 서울시장이 부하직원을 성희롱했다고 본 국가인권위원회의 ...                                                                                                                                                                                                                                                                                                                                                                                                                                                                                                                                                                                                                                                                                                                                                                                                                                                                                                                                                                                                                                             \n",
              "..                                                 ...                                                                                                                                                                                                                                                                                                                                                                                                                                                                                                                                                                                                                                                                                                                                                                                                                                                                                                                                                                                                                                             \n",
              "994  ▲ 이태원 사고 현장 서울시는 대형 압사 참사가 발생한 용산구 이태원 일대에 임시 ...                                                                                                                                                                                                                                                                                                                                                                                                                                                                                                                                                                                                                                                                                                                                                                                                                                                                                                                                                                                                                                             \n",
              "995  &<앵커&> 지금 이태원 사고 현장에 나가 있는 손기준 기자 연결해보겠습니다. 손 ...                                                                                                                                                                                                                                                                                                                                                                                                                                                                                                                                                                                                                                                                                                                                                                                                                                                                                                                                                                                                                                             \n",
              "996  윤석열 대통령이 서울 이태원 핼러윈 행사에서 대규모 인파가 몰리면서 발생한 사고와 ...                                                                                                                                                                                                                                                                                                                                                                                                                                                                                                                                                                                                                                                                                                                                                                                                                                                                                                                                                                                                                                             \n",
              "997  유럽 출장 중인 오세훈 서울시장이 서울 용산구 이태원동에서 대규모 압사 사고가 발생...                                                                                                                                                                                                                                                                                                                                                                                                                                                                                                                                                                                                                                                                                                                                                                                                                                                                                                                                                                                                                                             \n",
              "998  윤석열 대통령은 30일 서울 이태원 핼러윈 행사에서 대규모 인파가 몰리면서 발생한 ...                                                                                                                                                                                                                                                                                                                                                                                                                                                                                                                                                                                                                                                                                                                                                                                                                                                                                                                                                                                                                                             \n",
              "\n",
              "[999 rows x 3 columns]"
            ]
          },
          "execution_count": 150,
          "metadata": {},
          "output_type": "execute_result"
        }
      ],
      "source": [
        "news"
      ]
    },
    {
      "cell_type": "code",
      "execution_count": 151,
      "metadata": {},
      "outputs": [],
      "source": [
        "news.columns = ['title', 'vid', 'body']"
      ]
    },
    {
      "cell_type": "code",
      "execution_count": 152,
      "metadata": {},
      "outputs": [],
      "source": [
        "df_merge = pd.merge(df, news, left_on = 'vid', right_on = 'vid')"
      ]
    },
    {
      "cell_type": "code",
      "execution_count": 153,
      "metadata": {},
      "outputs": [],
      "source": [
        "df_merge.to_pickle('../result/textom_SBS_comments.pkl')\n",
        "df_merge.to_csv('../result/textom_SBS_comments.csv')"
      ]
    },
    {
      "cell_type": "markdown",
      "metadata": {},
      "source": [
        "# MERGE ALL"
      ]
    },
    {
      "cell_type": "code",
      "execution_count": 154,
      "metadata": {},
      "outputs": [],
      "source": [
        "df_KBS = pd.read_pickle(('../result/textom_KBS_comments.pkl'))\n",
        "df_SBS = pd.read_pickle(('../result/textom_SBS_comments.pkl'))\n",
        "df_MBC = pd.read_pickle(('../result/textom_MBC_comments.pkl'))"
      ]
    },
    {
      "cell_type": "code",
      "execution_count": 155,
      "metadata": {},
      "outputs": [],
      "source": [
        "df_all = pd.concat([df_KBS, df_SBS, df_MBC])"
      ]
    },
    {
      "cell_type": "code",
      "execution_count": 176,
      "metadata": {},
      "outputs": [],
      "source": [
        "df_all.reset_index(drop = True).to_csv(\"../result/textom_comments_all.csv\")"
      ]
    },
    {
      "cell_type": "code",
      "execution_count": 156,
      "metadata": {},
      "outputs": [],
      "source": [
        "import matplotlib.pyplot as plt\n"
      ]
    },
    {
      "cell_type": "code",
      "execution_count": 177,
      "metadata": {},
      "outputs": [
        {
          "data": {
            "text/plain": [
              "[<matplotlib.lines.Line2D at 0x7fdaed19a970>]"
            ]
          },
          "execution_count": 177,
          "metadata": {},
          "output_type": "execute_result"
        },
        {
          "data": {
            "image/png": "[encoded data removed]",
            "text/plain": [
              "<Figure size 432x288 with 1 Axes>"
            ]
          },
          "metadata": {
            "needs_background": "light"
          },
          "output_type": "display_data"
        }
      ],
      "source": [
        "plt.plot(df_all.groupby('ymd').size().sort_index())"
      ]
    },
    {
      "cell_type": "code",
      "execution_count": 184,
      "metadata": {},
      "outputs": [
        {
          "data": {
            "text/plain": [
              "ymd\n",
              "2022-10-26        4\n",
              "2022-10-30    13018\n",
              "2022-10-31     6827\n",
              "2022-11-01     9843\n",
              "2022-11-02     7884\n",
              "2022-11-03     2767\n",
              "2022-11-04     2733\n",
              "2022-11-05     1806\n",
              "2022-11-06     1021\n",
              "2022-11-07     5205\n",
              "2022-11-08     3628\n",
              "2022-11-09     3598\n",
              "2022-11-10     1062\n",
              "2022-11-11     3250\n",
              "2022-11-12      755\n",
              "2022-11-13      390\n",
              "2022-11-14      816\n",
              "2022-11-15     1407\n",
              "2022-11-16       51\n",
              "2022-11-17        4\n",
              "2022-11-18        1\n",
              "2022-11-19       10\n",
              "2022-11-20        2\n",
              "2022-11-21        2\n",
              "dtype: int64"
            ]
          },
          "execution_count": 184,
          "metadata": {},
          "output_type": "execute_result"
        }
      ],
      "source": [
        "df_SBS.groupby('ymd').size().sort_index()"
      ]
    },
    {
      "cell_type": "code",
      "execution_count": 231,
      "metadata": {},
      "outputs": [],
      "source": [
        "temp = pd.DataFrame(df_all.groupby('ymd').size().sort_index())\n",
        "temp['0'] = 0\n"
      ]
    },
    {
      "cell_type": "code",
      "execution_count": 236,
      "metadata": {},
      "outputs": [
        {
          "data": {
            "text/plain": [
              "<matplotlib.legend.Legend at 0x7fdaec6752b0>"
            ]
          },
          "execution_count": 236,
          "metadata": {},
          "output_type": "execute_result"
        },
        {
          "data": {
            "image/png": "[encoded data removed]",
            "text/plain": [
              "<Figure size 432x288 with 1 Axes>"
            ]
          },
          "metadata": {
            "needs_background": "light"
          },
          "output_type": "display_data"
        }
      ],
      "source": [
        "xs = temp.sort_index().index\n",
        "\n",
        "plt.plot(temp, label = 'total', color = 'black')\n",
        "plt.plot(df_SBS.groupby('ymd').size().sort_index(), label = \"SBS\")\n",
        "plt.plot(df_MBC.groupby('ymd').size().sort_index(), label = \"MBC\")\n",
        "plt.plot(df_KBS.groupby('ymd').size().sort_index(), label = \"KBS\")\n",
        "    \n",
        "plt.xticks(ticks=xs, labels= xs, rotation = 45)\n",
        "plt.locator_params(axis = 'x', nbins = 15)  \n",
        "plt.legend()\n"
      ]
    },
    {
      "cell_type": "code",
      "execution_count": 172,
      "metadata": {},
      "outputs": [
        {
          "data": {
            "text/plain": [
              "ymd\n",
              "2022-10-28       28\n",
              "2022-10-29       26\n",
              "2022-10-30    13179\n",
              "2022-10-31    15160\n",
              "2022-11-01    14328\n",
              "2022-11-02    12347\n",
              "2022-11-03     6773\n",
              "2022-11-04     7332\n",
              "2022-11-05     4856\n",
              "2022-11-06     4546\n",
              "2022-11-07     2734\n",
              "2022-11-08     4052\n",
              "2022-11-09     4047\n",
              "2022-11-10     1967\n",
              "2022-11-11     1531\n",
              "2022-11-12     1723\n",
              "2022-11-13      735\n",
              "2022-11-14     1887\n",
              "2022-11-15       29\n",
              "2022-11-16       11\n",
              "2022-11-17        3\n",
              "2022-11-18        4\n",
              "2022-11-21       11\n",
              "2022-11-22      599\n",
              "2022-11-23        9\n",
              "dtype: int64"
            ]
          },
          "execution_count": 172,
          "metadata": {},
          "output_type": "execute_result"
        }
      ],
      "source": [
        "df_MBC.groupby('ymd').size().sort_index()"
      ]
    }
  ],
  "metadata": {
    "colab": {
      "collapsed_sections": [],
      "name": "comment_request.ipynb",
      "provenance": []
    },
    "kernelspec": {
      "display_name": "Python 3.8.12 ('save')",
      "language": "python",
      "name": "python3"
    },
    "language_info": {
      "codemirror_mode": {
        "name": "ipython",
        "version": 3
      },
      "file_extension": ".py",
      "mimetype": "text/x-python",
      "name": "python",
      "nbconvert_exporter": "python",
      "pygments_lexer": "ipython3",
      "version": "3.8.12"
    },
    "vscode": {
      "interpreter": {
        "hash": "6632c70ce360d611e847e5318887868e2366d56c00e5f501b5a0b067a934dfe7"
      }
    }
  },
  "nbformat": 4,
  "nbformat_minor": 0
}
