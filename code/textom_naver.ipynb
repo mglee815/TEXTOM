{
 "cells": [
  {
   "cell_type": "code",
   "execution_count": 1,
   "id": "f14d8f86-2642-464c-9138-38abf2e90d79",
   "metadata": {},
   "outputs": [],
   "source": [
    "# !pip install webdriver_manager"
   ]
  },
  {
   "cell_type": "code",
   "execution_count": 1,
   "id": "21439254-44ee-4a91-a411-0d0ba272b48e",
   "metadata": {},
   "outputs": [],
   "source": [
    "#크롤링시 필요한 라이브러리 불러오기\n",
    "import pandas as pd\n",
    "from bs4 import BeautifulSoup #HTML tag를 쉽게 분석해주는 패키지\n",
    "import request #API request를 호출할 수 있도록 도와주는 패키지\n",
    "import re #정규표현식으로 전처리를 돕는 패키지\n",
    "import time \n",
    "from selenium import webdriver #웹브라우저 컨트롤\n",
    "from selenium.webdriver.common.by import By\n",
    "from webdriver_manager.chrome import ChromeDriverManager\n",
    "from tqdm import tqdm #코드 진행률 확인\n",
    "\n",
    "\n",
    "#웹드라이버 설정\n",
    "options = webdriver.ChromeOptions()\n",
    "options.add_experimental_option(\"excludeSwitches\", [\"enable-automation\"])\n",
    "options.add_experimental_option(\"useAutomationExtension\", False)"
   ]
  },
  {
   "cell_type": "code",
   "execution_count": 2,
   "id": "1177cb9a-e108-426f-8b96-74fb8f0caf6c",
   "metadata": {},
   "outputs": [],
   "source": [
    "query_data = pd.read_excel(\"../data/이태원 1027_1118.xlsx\")"
   ]
  },
  {
   "cell_type": "markdown",
   "id": "f23e0644-7e6d-492a-9647-5e469be717e3",
   "metadata": {},
   "source": [
    "빅카인즈에서 수집한 데이터 \\\n",
    "여기서 뉴스 제목을 네이버에 검색하도록 하면 해당 뉴스의 naver뉴스 url를 얻을 확률이 높음"
   ]
  },
  {
   "cell_type": "code",
   "execution_count": 4,
   "id": "265d0c88-d583-4332-9f09-70ebccda9524",
   "metadata": {},
   "outputs": [
    {
     "data": {
      "text/html": [
       "<div>\n",
       "<style scoped>\n",
       "    .dataframe tbody tr th:only-of-type {\n",
       "        vertical-align: middle;\n",
       "    }\n",
       "\n",
       "    .dataframe tbody tr th {\n",
       "        vertical-align: top;\n",
       "    }\n",
       "\n",
       "    .dataframe thead th {\n",
       "        text-align: right;\n",
       "    }\n",
       "</style>\n",
       "<table border=\"1\" class=\"dataframe\">\n",
       "  <thead>\n",
       "    <tr style=\"text-align: right;\">\n",
       "      <th></th>\n",
       "      <th>뉴스 식별자</th>\n",
       "      <th>일자</th>\n",
       "      <th>언론사</th>\n",
       "      <th>기고자</th>\n",
       "      <th>제목</th>\n",
       "      <th>통합 분류1</th>\n",
       "      <th>통합 분류2</th>\n",
       "      <th>통합 분류3</th>\n",
       "      <th>사건/사고 분류1</th>\n",
       "      <th>사건/사고 분류2</th>\n",
       "      <th>사건/사고 분류3</th>\n",
       "      <th>인물</th>\n",
       "      <th>위치</th>\n",
       "      <th>기관</th>\n",
       "      <th>키워드</th>\n",
       "      <th>특성추출(가중치순 상위 50개)</th>\n",
       "      <th>본문</th>\n",
       "      <th>URL</th>\n",
       "      <th>분석제외 여부</th>\n",
       "    </tr>\n",
       "  </thead>\n",
       "  <tbody>\n",
       "    <tr>\n",
       "      <th>0</th>\n",
       "      <td>1.300101e+06</td>\n",
       "      <td>20221118</td>\n",
       "      <td>강원도민일보</td>\n",
       "      <td>남궁창성</td>\n",
       "      <td>국민의힘 권성동 \"MBC 자막조작은 청담동 술자리 괴담과 동급\"</td>\n",
       "      <td>사회&gt;미디어</td>\n",
       "      <td>정치&gt;청와대</td>\n",
       "      <td>정치&gt;국회_정당</td>\n",
       "      <td>NaN</td>\n",
       "      <td>NaN</td>\n",
       "      <td>NaN</td>\n",
       "      <td>NaN</td>\n",
       "      <td>청담동,이태원,용산</td>\n",
       "      <td>한미동맹,가짜,대국,페이스북,MBC,국민의힘,도어스</td>\n",
       "      <td>국민의힘,권성동,MBC,자막,조작,괴담,청담동,술자리,동급,악의,보도,논평,재난,정...</td>\n",
       "      <td>mbc,악의적,권성동,대통령실,윤석열,문제점,청담동,가짜뉴스,술자리,정쟁화,pd수첩...</td>\n",
       "      <td>'악의적 보도' 논평 \"재난 정쟁화 PD수첩은 '민들레' 행태와 본질적으로 같아\"용...</td>\n",
       "      <td>www.kado.net/news/articleView.html?idxno=1155233</td>\n",
       "      <td>NaN</td>\n",
       "    </tr>\n",
       "    <tr>\n",
       "      <th>1</th>\n",
       "      <td>1.100611e+06</td>\n",
       "      <td>20221118</td>\n",
       "      <td>서울신문</td>\n",
       "      <td>강민혜</td>\n",
       "      <td>‘이태원 참사’ 유족들, CCTV 증거 보전 신청 행안부 경찰청 등</td>\n",
       "      <td>미분류</td>\n",
       "      <td>NaN</td>\n",
       "      <td>NaN</td>\n",
       "      <td>NaN</td>\n",
       "      <td>NaN</td>\n",
       "      <td>NaN</td>\n",
       "      <td>이태원</td>\n",
       "      <td>서울,이태원</td>\n",
       "      <td>서울소방재난본부,경찰,서울경찰청,이태원파출소,법원,태스크,서울종합방재센터,행정안전부...</td>\n",
       "      <td>이태원,참사,유족들,CCTV,증거,보전,신청,행안부,경찰청,민주사회,변호사모임,민변...</td>\n",
       "      <td>민변,보고서,희생자,태스크포스,경찰청,서울,cctv,멸실,신청서,서울종합방재센터,웨...</td>\n",
       "      <td>민주사회를 위한 변호사모임(민변)이 ‘이태원 참사’ 희생자 유가족을 대리해 참사 현...</td>\n",
       "      <td>http://www.seoul.co.kr/news/newsView.php?id=20...</td>\n",
       "      <td>NaN</td>\n",
       "    </tr>\n",
       "  </tbody>\n",
       "</table>\n",
       "</div>"
      ],
      "text/plain": [
       "         뉴스 식별자        일자     언론사   기고자  \\\n",
       "0  1.300101e+06  20221118  강원도민일보  남궁창성   \n",
       "1  1.100611e+06  20221118    서울신문   강민혜   \n",
       "\n",
       "                                      제목  통합 분류1   통합 분류2     통합 분류3  \\\n",
       "0    국민의힘 권성동 \"MBC 자막조작은 청담동 술자리 괴담과 동급\"  사회>미디어   정치>청와대   정치>국회_정당   \n",
       "1  ‘이태원 참사’ 유족들, CCTV 증거 보전 신청 행안부 경찰청 등     미분류      NaN        NaN   \n",
       "\n",
       "  사건/사고 분류1 사건/사고 분류2 사건/사고 분류3   인물          위치  \\\n",
       "0       NaN       NaN       NaN  NaN  청담동,이태원,용산   \n",
       "1       NaN       NaN       NaN  이태원      서울,이태원   \n",
       "\n",
       "                                                  기관  \\\n",
       "0                       한미동맹,가짜,대국,페이스북,MBC,국민의힘,도어스   \n",
       "1  서울소방재난본부,경찰,서울경찰청,이태원파출소,법원,태스크,서울종합방재센터,행정안전부...   \n",
       "\n",
       "                                                 키워드  \\\n",
       "0  국민의힘,권성동,MBC,자막,조작,괴담,청담동,술자리,동급,악의,보도,논평,재난,정...   \n",
       "1  이태원,참사,유족들,CCTV,증거,보전,신청,행안부,경찰청,민주사회,변호사모임,민변...   \n",
       "\n",
       "                                   특성추출(가중치순 상위 50개)  \\\n",
       "0  mbc,악의적,권성동,대통령실,윤석열,문제점,청담동,가짜뉴스,술자리,정쟁화,pd수첩...   \n",
       "1  민변,보고서,희생자,태스크포스,경찰청,서울,cctv,멸실,신청서,서울종합방재센터,웨...   \n",
       "\n",
       "                                                  본문  \\\n",
       "0  '악의적 보도' 논평 \"재난 정쟁화 PD수첩은 '민들레' 행태와 본질적으로 같아\"용...   \n",
       "1  민주사회를 위한 변호사모임(민변)이 ‘이태원 참사’ 희생자 유가족을 대리해 참사 현...   \n",
       "\n",
       "                                                 URL 분석제외 여부  \n",
       "0   www.kado.net/news/articleView.html?idxno=1155233     NaN  \n",
       "1  http://www.seoul.co.kr/news/newsView.php?id=20...     NaN  "
      ]
     },
     "execution_count": 4,
     "metadata": {},
     "output_type": "execute_result"
    }
   ],
   "source": [
    "query_data.head(2)"
   ]
  },
  {
   "cell_type": "markdown",
   "id": "200a0762-6c3e-4d4b-b9f5-224ce2a92043",
   "metadata": {},
   "source": [
    "우선 어떤 변수들이 존재하는지 확인"
   ]
  },
  {
   "cell_type": "code",
   "execution_count": 5,
   "id": "3055357d-3dfc-49ff-b586-cfdfdd0b2a64",
   "metadata": {},
   "outputs": [
    {
     "data": {
      "text/plain": [
       "Index(['뉴스 식별자', '일자', '언론사', '기고자', '제목', '통합 분류1', '통합 분류2', '통합 분류3',\n",
       "       '사건/사고 분류1', '사건/사고 분류2', '사건/사고 분류3', '인물', '위치', '기관', '키워드',\n",
       "       '특성추출(가중치순 상위 50개)', '본문', 'URL', '분석제외 여부'],\n",
       "      dtype='object')"
      ]
     },
     "execution_count": 5,
     "metadata": {},
     "output_type": "execute_result"
    }
   ],
   "source": [
    "query_data.columns"
   ]
  },
  {
   "cell_type": "code",
   "execution_count": 6,
   "id": "8d53ca3c-f2cb-49ea-8444-d8fafc557bd5",
   "metadata": {},
   "outputs": [
    {
     "name": "stdout",
     "output_type": "stream",
     "text": [
      "20000\n"
     ]
    }
   ],
   "source": [
    "query_lst = query_data[['제목', '뉴스 식별자']] #검색어로 사용할 제목과 나중에 원본 data와 매칭하기 위한 뉴스 식별자\n",
    "print(len(query_lst))"
   ]
  },
  {
   "cell_type": "code",
   "execution_count": 7,
   "id": "b608b98e-89f8-493b-9528-2e05010ffe3e",
   "metadata": {},
   "outputs": [
    {
     "data": {
      "text/html": [
       "<div>\n",
       "<style scoped>\n",
       "    .dataframe tbody tr th:only-of-type {\n",
       "        vertical-align: middle;\n",
       "    }\n",
       "\n",
       "    .dataframe tbody tr th {\n",
       "        vertical-align: top;\n",
       "    }\n",
       "\n",
       "    .dataframe thead th {\n",
       "        text-align: right;\n",
       "    }\n",
       "</style>\n",
       "<table border=\"1\" class=\"dataframe\">\n",
       "  <thead>\n",
       "    <tr style=\"text-align: right;\">\n",
       "      <th></th>\n",
       "      <th>제목</th>\n",
       "      <th>뉴스 식별자</th>\n",
       "    </tr>\n",
       "  </thead>\n",
       "  <tbody>\n",
       "    <tr>\n",
       "      <th>0</th>\n",
       "      <td>국민의힘 권성동 \"MBC 자막조작은 청담동 술자리 괴담과 동급\"</td>\n",
       "      <td>1.300101e+06</td>\n",
       "    </tr>\n",
       "    <tr>\n",
       "      <th>1</th>\n",
       "      <td>‘이태원 참사’ 유족들, CCTV 증거 보전 신청 행안부 경찰청 등</td>\n",
       "      <td>1.100611e+06</td>\n",
       "    </tr>\n",
       "    <tr>\n",
       "      <th>2</th>\n",
       "      <td>[포토] ‘오늘은 정쟁 대신 볼다툼’...여야 의원 친선 축구대회</td>\n",
       "      <td>1.100611e+06</td>\n",
       "    </tr>\n",
       "    <tr>\n",
       "      <th>3</th>\n",
       "      <td>이태원 참사 트라우마 치유 ‘사각지대’ 놓인 외국인 유학생들</td>\n",
       "      <td>1.100101e+06</td>\n",
       "    </tr>\n",
       "    <tr>\n",
       "      <th>4</th>\n",
       "      <td>민주당 '참사 진상규명' 압박 국민의힘 \"이재명 퇴진 운동이 먼저\"</td>\n",
       "      <td>1.101101e+06</td>\n",
       "    </tr>\n",
       "    <tr>\n",
       "      <th>...</th>\n",
       "      <td>...</td>\n",
       "      <td>...</td>\n",
       "    </tr>\n",
       "    <tr>\n",
       "      <th>19995</th>\n",
       "      <td>[이태원 참사] 경찰, 허위사실 유포 11건 조사 인파사고TF 설치</td>\n",
       "      <td>2.100701e+06</td>\n",
       "    </tr>\n",
       "    <tr>\n",
       "      <th>19996</th>\n",
       "      <td>삼성전자, 조용한 창립기념일 추모 묵념으로 기념식 시작</td>\n",
       "      <td>1.100401e+06</td>\n",
       "    </tr>\n",
       "    <tr>\n",
       "      <th>19997</th>\n",
       "      <td>이태원 참사 합동분향소 찾은 국민의힘</td>\n",
       "      <td>2.100501e+06</td>\n",
       "    </tr>\n",
       "    <tr>\n",
       "      <th>19998</th>\n",
       "      <td>\"주최자없는 행사, 지자체가 안전관리\" 서울시의회 조례 만든다</td>\n",
       "      <td>2.100201e+06</td>\n",
       "    </tr>\n",
       "    <tr>\n",
       "      <th>19999</th>\n",
       "      <td>알람 울리는 휴대폰 짝 잃은 신발 주인 기다리는 이태원 물품 1.5t</td>\n",
       "      <td>2.100201e+06</td>\n",
       "    </tr>\n",
       "  </tbody>\n",
       "</table>\n",
       "<p>20000 rows × 2 columns</p>\n",
       "</div>"
      ],
      "text/plain": [
       "                                           제목        뉴스 식별자\n",
       "0         국민의힘 권성동 \"MBC 자막조작은 청담동 술자리 괴담과 동급\"  1.300101e+06\n",
       "1       ‘이태원 참사’ 유족들, CCTV 증거 보전 신청 행안부 경찰청 등  1.100611e+06\n",
       "2        [포토] ‘오늘은 정쟁 대신 볼다툼’...여야 의원 친선 축구대회  1.100611e+06\n",
       "3           이태원 참사 트라우마 치유 ‘사각지대’ 놓인 외국인 유학생들  1.100101e+06\n",
       "4       민주당 '참사 진상규명' 압박 국민의힘 \"이재명 퇴진 운동이 먼저\"  1.101101e+06\n",
       "...                                       ...           ...\n",
       "19995   [이태원 참사] 경찰, 허위사실 유포 11건 조사 인파사고TF 설치  2.100701e+06\n",
       "19996          삼성전자, 조용한 창립기념일 추모 묵념으로 기념식 시작  1.100401e+06\n",
       "19997                    이태원 참사 합동분향소 찾은 국민의힘  2.100501e+06\n",
       "19998      \"주최자없는 행사, 지자체가 안전관리\" 서울시의회 조례 만든다  2.100201e+06\n",
       "19999  알람 울리는 휴대폰 짝 잃은 신발 주인 기다리는 이태원 물품 1.5t  2.100201e+06\n",
       "\n",
       "[20000 rows x 2 columns]"
      ]
     },
     "execution_count": 7,
     "metadata": {},
     "output_type": "execute_result"
    }
   ],
   "source": [
    "query_lst"
   ]
  },
  {
   "cell_type": "code",
   "execution_count": 8,
   "id": "d0178752-3fba-4ea8-a256-040f7a1c8103",
   "metadata": {},
   "outputs": [
    {
     "name": "stdout",
     "output_type": "stream",
     "text": [
      "20000\n"
     ]
    }
   ],
   "source": [
    "##########뉴스크롤링 시작###################\n",
    "\n",
    "search_urls = [] #찾은 url list를 저장할 빈 리스트 생성\n",
    "\n",
    "#검색어 입력\n",
    "for query in query_lst['제목']: #쿼리 리스트에 있는 뉴스 제목을 하나씩 꺼내서\n",
    "    # 검색식이 들어간 naver url을 생성\n",
    "    # 실제로 네이버에 특정 키워드를 검색하면 url이 아래와 같이 바뀐다는 패턴을 경험을 통해 발견해야함\n",
    "    # 운이 좋으면 패턴을 발견하는거고 운나쁘면 패턴이 없을수도 있지만\n",
    "    # 웹스크래핑은 결국 짬과 운이 모두 따라야하는 것이기 때문에\n",
    "    # 우여곡절이 많을수록 패턴을 더 빠르게 발견할 수 있음\n",
    "    search_urls.append(\"https://search.naver.com/search.naver?where=news&sm=tab_pge&query=\" + query + \"&start=\" + str(1))\n",
    "    \n",
    "print(len(search_urls))"
   ]
  },
  {
   "cell_type": "code",
   "execution_count": 9,
   "id": "7f0009f9-1118-42f3-baa7-e48e1acc42ac",
   "metadata": {
    "tags": []
   },
   "outputs": [
    {
     "name": "stderr",
     "output_type": "stream",
     "text": [
      "/tmp/ipykernel_2973/1775808015.py:1: SettingWithCopyWarning: \n",
      "A value is trying to be set on a copy of a slice from a DataFrame.\n",
      "Try using .loc[row_indexer,col_indexer] = value instead\n",
      "\n",
      "See the caveats in the documentation: https://pandas.pydata.org/pandas-docs/stable/user_guide/indexing.html#returning-a-view-versus-a-copy\n",
      "  query_lst['제목'] = search_urls\n"
     ]
    }
   ],
   "source": [
    "# 뉴스 제목 대신 뉴스 제목으로 검색한 naver url을 사용할 예정\n",
    "query_lst['제목'] = search_urls"
   ]
  },
  {
   "cell_type": "code",
   "execution_count": 11,
   "id": "94d54ace-e451-4499-8706-6a1733dc0272",
   "metadata": {
    "tags": []
   },
   "outputs": [
    {
     "data": {
      "text/html": [
       "<div>\n",
       "<style scoped>\n",
       "    .dataframe tbody tr th:only-of-type {\n",
       "        vertical-align: middle;\n",
       "    }\n",
       "\n",
       "    .dataframe tbody tr th {\n",
       "        vertical-align: top;\n",
       "    }\n",
       "\n",
       "    .dataframe thead th {\n",
       "        text-align: right;\n",
       "    }\n",
       "</style>\n",
       "<table border=\"1\" class=\"dataframe\">\n",
       "  <thead>\n",
       "    <tr style=\"text-align: right;\">\n",
       "      <th></th>\n",
       "      <th>제목</th>\n",
       "      <th>뉴스 식별자</th>\n",
       "    </tr>\n",
       "  </thead>\n",
       "  <tbody>\n",
       "    <tr>\n",
       "      <th>0</th>\n",
       "      <td>https://search.naver.com/search.naver?where=ne...</td>\n",
       "      <td>1.300101e+06</td>\n",
       "    </tr>\n",
       "    <tr>\n",
       "      <th>1</th>\n",
       "      <td>https://search.naver.com/search.naver?where=ne...</td>\n",
       "      <td>1.100611e+06</td>\n",
       "    </tr>\n",
       "    <tr>\n",
       "      <th>2</th>\n",
       "      <td>https://search.naver.com/search.naver?where=ne...</td>\n",
       "      <td>1.100611e+06</td>\n",
       "    </tr>\n",
       "    <tr>\n",
       "      <th>3</th>\n",
       "      <td>https://search.naver.com/search.naver?where=ne...</td>\n",
       "      <td>1.100101e+06</td>\n",
       "    </tr>\n",
       "    <tr>\n",
       "      <th>4</th>\n",
       "      <td>https://search.naver.com/search.naver?where=ne...</td>\n",
       "      <td>1.101101e+06</td>\n",
       "    </tr>\n",
       "    <tr>\n",
       "      <th>...</th>\n",
       "      <td>...</td>\n",
       "      <td>...</td>\n",
       "    </tr>\n",
       "    <tr>\n",
       "      <th>19995</th>\n",
       "      <td>https://search.naver.com/search.naver?where=ne...</td>\n",
       "      <td>2.100701e+06</td>\n",
       "    </tr>\n",
       "    <tr>\n",
       "      <th>19996</th>\n",
       "      <td>https://search.naver.com/search.naver?where=ne...</td>\n",
       "      <td>1.100401e+06</td>\n",
       "    </tr>\n",
       "    <tr>\n",
       "      <th>19997</th>\n",
       "      <td>https://search.naver.com/search.naver?where=ne...</td>\n",
       "      <td>2.100501e+06</td>\n",
       "    </tr>\n",
       "    <tr>\n",
       "      <th>19998</th>\n",
       "      <td>https://search.naver.com/search.naver?where=ne...</td>\n",
       "      <td>2.100201e+06</td>\n",
       "    </tr>\n",
       "    <tr>\n",
       "      <th>19999</th>\n",
       "      <td>https://search.naver.com/search.naver?where=ne...</td>\n",
       "      <td>2.100201e+06</td>\n",
       "    </tr>\n",
       "  </tbody>\n",
       "</table>\n",
       "<p>20000 rows × 2 columns</p>\n",
       "</div>"
      ],
      "text/plain": [
       "                                                      제목        뉴스 식별자\n",
       "0      https://search.naver.com/search.naver?where=ne...  1.300101e+06\n",
       "1      https://search.naver.com/search.naver?where=ne...  1.100611e+06\n",
       "2      https://search.naver.com/search.naver?where=ne...  1.100611e+06\n",
       "3      https://search.naver.com/search.naver?where=ne...  1.100101e+06\n",
       "4      https://search.naver.com/search.naver?where=ne...  1.101101e+06\n",
       "...                                                  ...           ...\n",
       "19995  https://search.naver.com/search.naver?where=ne...  2.100701e+06\n",
       "19996  https://search.naver.com/search.naver?where=ne...  1.100401e+06\n",
       "19997  https://search.naver.com/search.naver?where=ne...  2.100501e+06\n",
       "19998  https://search.naver.com/search.naver?where=ne...  2.100201e+06\n",
       "19999  https://search.naver.com/search.naver?where=ne...  2.100201e+06\n",
       "\n",
       "[20000 rows x 2 columns]"
      ]
     },
     "execution_count": 11,
     "metadata": {},
     "output_type": "execute_result"
    }
   ],
   "source": [
    "query_lst"
   ]
  },
  {
   "cell_type": "code",
   "execution_count": null,
   "id": "1e52622c-d939-4e25-910f-472a5c2b8f89",
   "metadata": {
    "tags": []
   },
   "outputs": [],
   "source": [
    "driver = webdriver.Chrome(ChromeDriverManager().install()) # 크롬 드라이버를 사용하여 스크래핑 하겠습니다\n",
    "driver.implicitly_wait(3) # 크롬 드라이버는 특정 활동 이후 3초정도 term을 두고 다음 행동을 시작합니다.\n",
    "\n",
    "\n",
    "# selenium으로 검색 페이지 불러오기 #\n",
    "naver_urls=[] # 수집한 뉴스 url을 저장할 빈 리스트 생성\n",
    "vids = [] # 수집 성공한 뉴스의 id를 저장할 빈 리스트 생성\n",
    "\n",
    "for title, vid in tqdm(zip(query_lst['제목'], query_lst['식별자'])): # 뉴스 검색식과 뉴스 식별자 아이디를 묶어서 하나씩 전달\n",
    "    driver.switch_to.window(driver.window_handles[0]) #첫번째 탭으로 돌아오기\n",
    "    driver.get(title) # 주어진 뉴스 검색식 url로 검색\n",
    "    driver.implicitly_wait(0.5) # 랙걸릴것을 대비하여 잠시 대기\n",
    "\n",
    "    # 네이버 기사 눌러서 제목 및 본문 가져오기#\n",
    "    # 네이버 기사가 있는 기사 css selector 모아오기\n",
    "    a = driver.find_elements(By.CSS_SELECTOR,'a.info') # 지금 페이지의 html 스크래핑 이후 필요한 정보만 저장\n",
    "    \n",
    "    # 위에서 생성한 css selector list 하나씩 클릭하여 본문 url얻기\n",
    "    if len(a) >= 2: # 뉴스가 1개 이상 있을 경우\n",
    "        a[1].click() # 네이버뉴스의 형태로 제공되는 버튼을 클릭\n",
    "        driver.implicitly_wait(0.5)\n",
    "        driver.switch_to.window(driver.window_handles[-1]) # 방금 클릭한 탭으로 화면 전환\n",
    "        driver.implicitly_wait(0.5)\n",
    "        url = driver.current_url # 전환된 탭의 url을 긁어오기\n",
    "        naver_urls.append(url) # 긁어온 url을 차곡차곡 저장\n",
    "        vids.append(vid) # 저장에 성공했다면 뉴스 식별자도 저장\n",
    "        driver.close() # 저장한 페이지 close        \n",
    "\n",
    "print(len(naver_urls))"
   ]
  }
 ],
 "metadata": {
  "kernelspec": {
   "display_name": "save",
   "language": "python",
   "name": "save"
  },
  "language_info": {
   "codemirror_mode": {
    "name": "ipython",
    "version": 3
   },
   "file_extension": ".py",
   "mimetype": "text/x-python",
   "name": "python",
   "nbconvert_exporter": "python",
   "pygments_lexer": "ipython3",
   "version": "3.8.12"
  }
 },
 "nbformat": 4,
 "nbformat_minor": 5
}
